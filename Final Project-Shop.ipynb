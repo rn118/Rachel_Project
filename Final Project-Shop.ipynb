{
 "cells": [
  {
   "cell_type": "markdown",
   "metadata": {},
   "source": [
    "# REVIEWS AS A PREDICTOR OF SALES\n",
    "###### By Rachel Nord, DS-SEA-07"
   ]
  },
  {
   "cell_type": "markdown",
   "metadata": {},
   "source": [
    "## Background / Problem Statement\n",
    "Reviews drive orders.  We know that products that have reviews and have high average rating of reviews sell better than those that don’t.  However, are there features in the ratings that are more likely to drive purchases than others?  And can we use these features to build a model that will predict orders placed?\n"
   ]
  },
  {
   "cell_type": "markdown",
   "metadata": {},
   "source": [
    "## Data\n",
    "### Data Import\n",
    "I uploaded a csv file of from Bazaarvoice, the vendor we use to capture and enable user generated content on rei.com. The dimensions of this data are by average overall rating, total reviews, percent recommended to a friend, average estimated word count, percent of reviews that were 5-star, specialty shop, number of uploaded photos, price.\n",
    "\n",
    "I then joined this data with data on orders placed, price of item, and each level of of REI's internal merchandising hierarchy (Specialty Shop, Department, Class, Subclass).\n",
    "\n",
    "### Pre-processing Steps Taken\n"
   ]
  },
  {
   "cell_type": "code",
   "execution_count": 1,
   "metadata": {
    "collapsed": true
   },
   "outputs": [],
   "source": [
    "import pandas as pd\n",
    "import numpy as np\n",
    "import matplotlib.pyplot as plt\n",
    "import seaborn as sns\n",
    "\n",
    "# display plots in the notebook\n",
    "%matplotlib inline\n",
    "\n",
    "# increase default figure and font sizes for easier viewing\n",
    "plt.rcParams# increase default figure and font sizes for easier viewing\n",
    "plt.rcParams['figure.figsize'] = (15, 6)\n",
    "plt.rcParams['font.size'] = 14\n"
   ]
  },
  {
   "cell_type": "markdown",
   "metadata": {},
   "source": [
    "Most preprocessing was done in prior to the data import since I used SQL to join my two data sources.  At this point I calculated the standard deviation of the review scores for each product.  The Bazaarvoice data is based on a moment in time on 10/20/17.  So I filtered order and traffic data for the month of October.  I also created dummy variables for each specialty shop.\n",
    "\n",
    "The end result was 18,297 different products and 37 different features to analyze."
   ]
  },
  {
   "cell_type": "code",
   "execution_count": 2,
   "metadata": {
    "collapsed": true
   },
   "outputs": [],
   "source": [
    "# read in data\n",
    "path = '/Users/rnord/GA Data Science/temp_repos/DS-SEA-07/project/'\n",
    "url = path + 'Bazaar_by_product_TRAFFIC.csv'\n",
    "prod = pd.read_csv(url, delimiter = '|')\n",
    "\n",
    "# Add Standard Deviation\n",
    "prod['STD'] = np.sqrt(prod['VARIANCE_'])\n",
    "\n",
    "#Look at latest month\n",
    "prod_oct = prod[prod['MONTH_CODE'] == 201710]\n",
    "\n",
    "\n"
   ]
  },
  {
   "cell_type": "code",
   "execution_count": 47,
   "metadata": {
    "collapsed": true
   },
   "outputs": [],
   "source": [
    "\n",
    "# Trying a subset of the data to see if this is more accurate\n",
    "prod_oct_hikingfootwear = prod_oct[prod_oct['DEPARTMENT_DESC'] == 'HIKING FOOTWEAR']\n",
    "prod_oct_packs = prod_oct[prod_oct['DEPARTMENT_DESC'] == 'PACKS']\n",
    "prod_oct_cycling = prod_oct[prod_oct['SHOP_DESC'] == 'CYCLING']"
   ]
  },
  {
   "cell_type": "markdown",
   "metadata": {},
   "source": [
    "### Features Used"
   ]
  },
  {
   "cell_type": "code",
   "execution_count": 4,
   "metadata": {},
   "outputs": [
    {
     "data": {
      "text/plain": [
       "Index([u'MONTH_CODE', u'PRODUCT', u'SUBCLASS_DESC', u'CLASS_DESC',\n",
       "       u'DEPARTMENT_DESC', u'SHOP_DESC', u'VISITS', u'ORDERS', u'CONVERSION',\n",
       "       u'INDEX', u'PRODUCT_NAME', u'PRODUCT_ID', u'CATEGORY',\n",
       "       u'AVERAGE_OVERALL_RATING', u'TOTAL_SUBMITTED__REVIEWS',\n",
       "       u'TOTAL_SUBMITTED__RATINGS_ONLY_REVIEWS', u'PCT_RECOMMEND_TO_A_FRIEND',\n",
       "       u'AVERAGE_EST_REVIEW_WORD_COUNT', u'PCT_5_STAR', u'PCT_4_STAR',\n",
       "       u'PCT_3_STAR', u'PCT_2_STAR', u'PCT_1_STAR', u'TOTAL_HELPFULNESS_VOTES',\n",
       "       u'PCT_YES', u'PCT_NO', u'NUM_UPLOADED_PHOTOS', u'NUM_UPLOADED_VIDEOS',\n",
       "       u'PRODUCT.1', u'PRICE', u'REVIEWS_5', u'REVIEWS_4', u'REVIEWS_3',\n",
       "       u'REVIEWS_2', u'REVIEWS_1', u'VARIANCE_', u'STD'],\n",
       "      dtype='object')"
      ]
     },
     "execution_count": 4,
     "metadata": {},
     "output_type": "execute_result"
    }
   ],
   "source": [
    "prod_oct.columns\n"
   ]
  },
  {
   "cell_type": "markdown",
   "metadata": {},
   "source": [
    "### Response Variable\n",
    "The response variable that was tested was `Orders`."
   ]
  },
  {
   "cell_type": "markdown",
   "metadata": {},
   "source": [
    "### Data Exploration\n",
    "- Total number of reviews written for each product"
   ]
  },
  {
   "cell_type": "code",
   "execution_count": 48,
   "metadata": {},
   "outputs": [
    {
     "data": {
      "text/plain": [
       "<matplotlib.text.Text at 0x10d83048>"
      ]
     },
     "execution_count": 48,
     "metadata": {},
     "output_type": "execute_result"
    },
    {
     "data": {
      "image/png": "[encoded data removed]",
      "text/plain": [
       "<matplotlib.figure.Figure at 0x1041a198>"
      ]
     },
     "metadata": {},
     "output_type": "display_data"
    }
   ],
   "source": [
    "# Total Submitted Reviews\n",
    "prod_oct_cycling.TOTAL_SUBMITTED__REVIEWS[prod_oct_cycling.TOTAL_SUBMITTED__REVIEWS < 50].plot(kind='hist', bins=100)\n",
    "plt.xlabel('TOTAL_SUBMITTED__REVIEWS')\n",
    "plt.ylabel('Frequency')"
   ]
  },
  {
   "cell_type": "markdown",
   "metadata": {},
   "source": [
    "- Of all products currently available on rei.com, most have no reviews, followed by those with an average score of 5."
   ]
  },
  {
   "cell_type": "code",
   "execution_count": 49,
   "metadata": {},
   "outputs": [
    {
     "data": {
      "text/plain": [
       "<matplotlib.text.Text at 0x12d0f4e0>"
      ]
     },
     "execution_count": 49,
     "metadata": {},
     "output_type": "execute_result"
    },
    {
     "data": {
      "image/png": "[encoded data removed]",
      "text/plain": [
       "<matplotlib.figure.Figure at 0x1041a3c8>"
      ]
     },
     "metadata": {},
     "output_type": "display_data"
    }
   ],
   "source": [
    "# Average Overall Rating\n",
    "prod_oct_cycling.AVERAGE_OVERALL_RATING.plot(kind='hist', bins=20)\n",
    "plt.xlabel('AVERAGE_OVERALL_RATING')\n",
    "plt.ylabel('Frequency')"
   ]
  },
  {
   "cell_type": "markdown",
   "metadata": {},
   "source": [
    "### Correlation Heat Map\n",
    "\n",
    "Based on the below heatmap, the strongest correlation with orders and order conversion are percent of reviews recommended to friends, total reviews, especially the number of 5-star reviews, total helpfulness votes."
   ]
  },
  {
   "cell_type": "code",
   "execution_count": 50,
   "metadata": {},
   "outputs": [
    {
     "data": {
      "text/plain": [
       "<matplotlib.axes._subplots.AxesSubplot at 0x13168dd8>"
      ]
     },
     "execution_count": 50,
     "metadata": {},
     "output_type": "execute_result"
    },
    {
     "data": {
      "image/png": "[encoded data removed]",
      "text/plain": [
       "<matplotlib.figure.Figure at 0x12f697b8>"
      ]
     },
     "metadata": {},
     "output_type": "display_data"
    }
   ],
   "source": [
    "# visualize correlation matrix in Seaborn using a heatmap\n",
    "sns.heatmap(prod_oct_cycling.corr())"
   ]
  },
  {
   "cell_type": "code",
   "execution_count": 51,
   "metadata": {
    "collapsed": true
   },
   "outputs": [],
   "source": [
    "# create a list of features\n",
    "feature_cols = ['AVERAGE_OVERALL_RATING', 'TOTAL_SUBMITTED__REVIEWS', \n",
    "                'TOTAL_SUBMITTED__RATINGS_ONLY_REVIEWS', 'PCT_RECOMMEND_TO_A_FRIEND',\n",
    "                'AVERAGE_EST_REVIEW_WORD_COUNT', 'PCT_5_STAR', 'PCT_4_STAR', 'PCT_3_STAR', 'PCT_2_STAR', 'PCT_1_STAR', \n",
    "                'PCT_YES', 'PCT_NO', 'NUM_UPLOADED_PHOTOS', 'NUM_UPLOADED_VIDEOS', 'PRICE', 'REVIEWS_5', \n",
    "                'REVIEWS_4', 'REVIEWS_3', 'REVIEWS_2', 'REVIEWS_1', 'VARIANCE_', 'STD']\n",
    "\n"
   ]
  },
  {
   "cell_type": "code",
   "execution_count": 52,
   "metadata": {},
   "outputs": [
    {
     "data": {
      "text/plain": [
       "LinearRegression(copy_X=True, fit_intercept=True, n_jobs=1, normalize=False)"
      ]
     },
     "execution_count": 52,
     "metadata": {},
     "output_type": "execute_result"
    }
   ],
   "source": [
    "# Creation of feature matrix and response vector\n",
    "# Importation of chosen estimato; instantiation into a variable\n",
    "# Fit the model with the X and y\n",
    "\n",
    "X = prod_oct_cycling[feature_cols]\n",
    "y = prod_oct_cycling['ORDERS']\n",
    "\n",
    "from sklearn.linear_model import LinearRegression\n",
    "linreg = LinearRegression()\n",
    "linreg.fit(X, y)\n",
    "\n"
   ]
  },
  {
   "cell_type": "code",
   "execution_count": 53,
   "metadata": {},
   "outputs": [
    {
     "name": "stdout",
     "output_type": "stream",
     "text": [
      "4.48243588209\n",
      "[ -1.07715608e+02  -1.50999367e+01   4.44831602e+00   2.58891584e+00\n",
      "  -8.94743946e-03   1.83227978e+01   7.53427337e+00   3.93706926e+00\n",
      "  -3.38558096e+00   1.36730444e-01   1.20758335e+00   1.06077964e+00\n",
      "  -1.13595561e+00  -1.98866855e+00  -1.69433030e-03   1.55256738e+01\n",
      "   1.48124008e+01   1.49064989e+01   1.75885889e+01   1.47003914e+01\n",
      "  -5.08978555e-01   5.38447525e+01]\n"
     ]
    }
   ],
   "source": [
    "\n",
    "# print the coefficients\n",
    "print linreg.intercept_\n",
    "print linreg.coef_\n"
   ]
  },
  {
   "cell_type": "code",
   "execution_count": 54,
   "metadata": {},
   "outputs": [
    {
     "data": {
      "text/plain": [
       "[('AVERAGE_OVERALL_RATING', -107.71560826479579),\n",
       " ('TOTAL_SUBMITTED__REVIEWS', -15.099936691737824),\n",
       " ('TOTAL_SUBMITTED__RATINGS_ONLY_REVIEWS', 4.4483160185814983),\n",
       " ('PCT_RECOMMEND_TO_A_FRIEND', 2.5889158417269433),\n",
       " ('AVERAGE_EST_REVIEW_WORD_COUNT', -0.0089474394602753193),\n",
       " ('PCT_5_STAR', 18.322797779723437),\n",
       " ('PCT_4_STAR', 7.5342733715658596),\n",
       " ('PCT_3_STAR', 3.9370692609119349),\n",
       " ('PCT_2_STAR', -3.3855809636384988),\n",
       " ('PCT_1_STAR', 0.13673044419294822),\n",
       " ('PCT_YES', 1.2075833456697977),\n",
       " ('PCT_NO', 1.060779643649016),\n",
       " ('NUM_UPLOADED_PHOTOS', -1.1359556137895943),\n",
       " ('NUM_UPLOADED_VIDEOS', -1.9886685540114681),\n",
       " ('PRICE', -0.0016943302961287543),\n",
       " ('REVIEWS_5', 15.525673766278626),\n",
       " ('REVIEWS_4', 14.81240078404528),\n",
       " ('REVIEWS_3', 14.906498914081997),\n",
       " ('REVIEWS_2', 17.588588866404841),\n",
       " ('REVIEWS_1', 14.700391359940639),\n",
       " ('VARIANCE_', -0.50897855513772594),\n",
       " ('STD', 53.844752497998996)]"
      ]
     },
     "execution_count": 54,
     "metadata": {},
     "output_type": "execute_result"
    }
   ],
   "source": [
    "# pair the feature names with the coefficients\n",
    "zip(feature_cols, linreg.coef_)"
   ]
  },
  {
   "cell_type": "markdown",
   "metadata": {},
   "source": [
    "The most impactful features are:\n",
    "\n",
    "- Holding all other features fixed, a 1 unit increase in **Pct 5-Star Reviews** is associated with an **order increase of 257 products**.\n",
    "- Holding all other features fixed, a 1 unit increase in **Average Overall Rating** is associated with a **order increase of 53 products**.\n",
    "- Holding all other features fixed, a 1 unit increase in **REI Garage Prodcut** is associated with a **order increase of 19 products**."
   ]
  },
  {
   "cell_type": "markdown",
   "metadata": {
    "collapsed": true
   },
   "source": [
    "## Modeling\n",
    "\n",
    "### Simple Linear Regression\n",
    "I first ran a simple linear regression model to get a sense of the null RSME."
   ]
  },
  {
   "cell_type": "code",
   "execution_count": 55,
   "metadata": {
    "collapsed": true
   },
   "outputs": [],
   "source": [
    "#from sklearn.cross_validation import train_test_split # deprecated syntax\n",
    "from sklearn.model_selection import train_test_split\n",
    "from sklearn import metrics\n",
    "\n",
    "\n",
    "# define a function that accepts a list of features and returns testing RMSE\n",
    "def train_test_rmse(feature_cols):\n",
    "    X = prod_oct_cycling[feature_cols]\n",
    "    y = prod_oct_cycling['ORDERS']\n",
    "    X_train, X_test, y_train, y_test = train_test_split(X, y, random_state=123)\n",
    "    linreg = LinearRegression()\n",
    "    linreg.fit(X_train, y_train)\n",
    "    y_pred = linreg.predict(X_test)\n",
    "    return np.sqrt(metrics.mean_squared_error(y_test, y_pred))\n"
   ]
  },
  {
   "cell_type": "code",
   "execution_count": 56,
   "metadata": {
    "collapsed": true
   },
   "outputs": [],
   "source": [
    "# split X and y into training and testing sets\n",
    "X_train, X_test, y_train, y_test = train_test_split(X, y, random_state=1)\n",
    "\n",
    "# create a NumPy array with the same shape as y_test\n",
    "y_null = np.zeros_like(y_test, dtype=float)\n",
    "\n",
    "# fill the array with the mean value of y_test\n",
    "y_null.fill(y_test.mean())\n",
    "#y_null\n"
   ]
  },
  {
   "cell_type": "code",
   "execution_count": 57,
   "metadata": {},
   "outputs": [
    {
     "data": {
      "text/plain": [
       "12.744714826510078"
      ]
     },
     "execution_count": 57,
     "metadata": {},
     "output_type": "execute_result"
    }
   ],
   "source": [
    "np.sqrt(metrics.mean_squared_error(y_test, y_null))"
   ]
  },
  {
   "cell_type": "markdown",
   "metadata": {
    "collapsed": true
   },
   "source": [
    "Changing the random state in the test/train split gave me a null RSME ranging from **34 to 40**.\n"
   ]
  },
  {
   "cell_type": "markdown",
   "metadata": {},
   "source": [
    "### Cross Validation\n",
    "\n",
    "I next used a 10-fold cross-validation to calculate the RMSE for the linear regression model.  The RMSE when using all features was 36.81. "
   ]
  },
  {
   "cell_type": "code",
   "execution_count": 58,
   "metadata": {},
   "outputs": [
    {
     "name": "stdout",
     "output_type": "stream",
     "text": [
      "[ -62.59360667 -298.0840909   -55.60974701  -78.99949388 -107.47068817\n",
      " -120.53071715  -58.76098967 -169.72716158 -106.08111189 -789.39525234]\n",
      "12.1956796215\n"
     ]
    }
   ],
   "source": [
    "# save the 10 MSE scores output by cross_val_score\n",
    "from sklearn.model_selection import cross_val_score\n",
    "mse_scores = cross_val_score(linreg, X, y, cv=10, scoring='neg_mean_squared_error')\n",
    "print mse_scores\n",
    "print np.mean(np.sqrt(-mse_scores))"
   ]
  },
  {
   "cell_type": "markdown",
   "metadata": {},
   "source": [
    "Then I tuned my model, attempting to increase the accuracy by excluding some of the features from the model.\n",
    "Of the models I ran, this was the only one that beat the cross-validation model with all features included:\n",
    "- 'PCT_RECOMMEND_TO_A_FRIEND'\n",
    "- 'AVERAGE_EST_REVIEW_WORD_COUNT' \n",
    "- 'PCT_YES'\n",
    "- 'PCT_NO'\n",
    "- 'PRICE'\n",
    "- 'REVIEWS_5' \n",
    "- 'REVIEWS_4'\n",
    "- 'REVIEWS_1'\n"
   ]
  },
  {
   "cell_type": "code",
   "execution_count": 59,
   "metadata": {},
   "outputs": [
    {
     "name": "stdout",
     "output_type": "stream",
     "text": [
      "[ -52.88402912 -301.07871059  -58.09403173  -78.26627027 -116.45551895\n",
      " -126.05254047  -50.58728094 -168.62022174 -100.17202035 -796.31544868]\n",
      "12.143681289\n"
     ]
    }
   ],
   "source": [
    "# 10-fold cross-validation with best test-train features\n",
    "# this was the best combo I could find.\n",
    "feature_cols = [ 'PCT_RECOMMEND_TO_A_FRIEND',\n",
    "                'AVERAGE_EST_REVIEW_WORD_COUNT', \n",
    "                'PCT_YES', 'PCT_NO', 'PRICE', 'REVIEWS_5', \n",
    "                'REVIEWS_4', 'REVIEWS_1']\n",
    "X = prod_oct_cycling[feature_cols]\n",
    "\n",
    "mse_scores = cross_val_score(linreg, X, y, cv=10, scoring='neg_mean_squared_error')\n",
    "print mse_scores\n",
    "print np.sqrt(-cross_val_score(linreg, X, y, cv=10, scoring='neg_mean_squared_error')).mean()"
   ]
  },
  {
   "cell_type": "markdown",
   "metadata": {},
   "source": [
    "### Polynomial Regression"
   ]
  },
  {
   "cell_type": "code",
   "execution_count": 62,
   "metadata": {
    "collapsed": true
   },
   "outputs": [],
   "source": [
    "# Training Polynomial Regression Model\n",
    "from sklearn.preprocessing import PolynomialFeatures\n",
    "from sklearn.pipeline import Pipeline\n",
    "poly_reg = PolynomialFeatures(degree = 2)\n",
    "\n",
    "\n",
    "#X_poly = poly_reg.fit_transform(X_train)\n",
    "poly_reg.fit(X, y)\n",
    "\n",
    "def train_test_rmse_poly(prod_oct_cycling, feature_cols, random_state=123):\n",
    "    X = prod_oct_cycling[feature_cols]\n",
    "    y = prod_oct_cycling['ORDERS']\n",
    "    X_train, X_test, y_train, y_test = train_test_split(X, y)\n",
    "    poly_feature = PolynomialFeatures(degree = 2)\n",
    "    X_train_poly = poly_feature.fit_transform(X_train)\n",
    "    X_test_poly = poly_feature.fit_transform(X_test)\n",
    "    linreg = LinearRegression()\n",
    "    linreg.fit(X_train_poly, y_train)\n",
    "    y_pred = linreg.predict(X_test_poly)\n",
    "    return np.sqrt(metrics.mean_squared_error(y_test, y_pred))"
   ]
  },
  {
   "cell_type": "code",
   "execution_count": 63,
   "metadata": {},
   "outputs": [
    {
     "name": "stdout",
     "output_type": "stream",
     "text": [
      "11.4242340769\n"
     ]
    }
   ],
   "source": [
    "feature_columns = ['PCT_RECOMMEND_TO_A_FRIEND',\n",
    "                'AVERAGE_EST_REVIEW_WORD_COUNT', \n",
    "                'PCT_YES', 'PCT_NO', 'PRICE', 'REVIEWS_5', \n",
    "                'REVIEWS_4', 'REVIEWS_1']\n",
    "print train_test_rmse_poly(prod_oct_cycling, feature_columns)"
   ]
  },
  {
   "cell_type": "code",
   "execution_count": null,
   "metadata": {
    "collapsed": true
   },
   "outputs": [],
   "source": []
  },
  {
   "cell_type": "markdown",
   "metadata": {},
   "source": [
    "### Decision Tree\n",
    "\n",
    "Use 10-fold cross-validation to evaluate a decision tree model"
   ]
  },
  {
   "cell_type": "code",
   "execution_count": 64,
   "metadata": {
    "collapsed": true
   },
   "outputs": [],
   "source": [
    "from sklearn.tree import DecisionTreeRegressor\n",
    "# list of values to try\n",
    "max_depth_range = range(1, 8)\n",
    "\n",
    "# list to store the average RMSE for each value of max_depth\n",
    "RMSE_scores = []\n",
    "\n",
    "# use CV with each value of max_depth\n",
    "for depth in max_depth_range:\n",
    "    treereg = DecisionTreeRegressor(max_depth=depth, random_state=1)\n",
    "    MSE_scores = cross_val_score(treereg, X, y, cv=10, scoring='neg_mean_squared_error')\n",
    "    RMSE_scores.append(np.mean(np.sqrt(-MSE_scores)))"
   ]
  },
  {
   "cell_type": "code",
   "execution_count": 65,
   "metadata": {},
   "outputs": [
    {
     "data": {
      "text/plain": [
       "<matplotlib.text.Text at 0x13207748>"
      ]
     },
     "execution_count": 65,
     "metadata": {},
     "output_type": "execute_result"
    },
    {
     "data": {
      "image/png": "[encoded data removed]",
      "text/plain": [
       "<matplotlib.figure.Figure at 0x1348b438>"
      ]
     },
     "metadata": {},
     "output_type": "display_data"
    }
   ],
   "source": [
    "# plot max_depth (x-axis) versus RMSE (y-axis)\n",
    "\n",
    "plt.plot(max_depth_range, RMSE_scores)\n",
    "plt.xlabel('max_depth')\n",
    "plt.ylabel('RMSE (lower is better)')"
   ]
  },
  {
   "cell_type": "code",
   "execution_count": 66,
   "metadata": {},
   "outputs": [
    {
     "data": {
      "text/plain": [
       "12.293973743870868"
      ]
     },
     "execution_count": 66,
     "metadata": {},
     "output_type": "execute_result"
    }
   ],
   "source": [
    "# fit a decision tree model with \"max_depth=3\"\n",
    "from sklearn.tree import DecisionTreeRegressor\n",
    "treereg = DecisionTreeRegressor(max_depth=1, random_state=1)\n",
    "\n",
    "scores = cross_val_score(treereg, X, y, cv=10, scoring='neg_mean_squared_error')\n",
    "rmse_scores_t = np.mean(np.sqrt(-scores))\n",
    "np.mean(rmse_scores_t)"
   ]
  },
  {
   "cell_type": "markdown",
   "metadata": {},
   "source": [
    "So it appears that the best model I can use is a decision tree with a depth of 4, as the RSME is the lowest of all.  This is still less accurate than my null RSME."
   ]
  },
  {
   "cell_type": "markdown",
   "metadata": {},
   "source": [
    "## Conclusion\n",
    "\n",
    "The Root Squared Mean Error for each model/best model tune were:\n",
    "\n",
    "- Cross Validation linear regression: **39.023**\n",
    "- Best Cross Validation model produced, based on features used: **36.773**\n",
    "- Linear regression using Dimensionality Reduction: **38.373**\n",
    "- Best Decision Tree model: **37.243**\n",
    "\n",
    "The best model I produced in terms of lowest RSME was a Cross Validation model using select features: \n",
    "- 'PCT_RECOMMEND_TO_A_FRIEND'\n",
    "- 'AVERAGE_EST_REVIEW_WORD_COUNT' \n",
    "- 'PCT_YES'\n",
    "- 'PCT_NO'\n",
    "- 'PRICE'\n",
    "- 'REVIEWS_5' \n",
    "- 'REVIEWS_4'\n",
    "- 'REVIEWS_1'\n",
    "- 'shop_CAMPING' \n",
    "- 'shop_CLIMBING'\n",
    "- 'shop_CYCLING'\n",
    "- 'shop_MISCELLANEOUS' \n",
    "- 'shop_OUTDOOR ESSENTIALS'\n",
    "- 'shop_REI GARAGE'\n",
    "- 'shop_SNOWSPORTS'\n",
    "- 'shop_TRAVEL' \n",
    "- 'shop_WATERSPORTS' \n",
    "                \n",
    "Still, this model did not produce results much more accurate than the Null simple linear regression.  None of the features I looked at were very highly correlated with orders placed.  With the data I have available, we cannot produce a model that will predict orders placed with much accuracy.  \n",
    "\n",
    "A next step would be to explore the content of the reviews to see if perhaps there is a correlation between content and orders placed."
   ]
  },
  {
   "cell_type": "code",
   "execution_count": null,
   "metadata": {
    "collapsed": true
   },
   "outputs": [],
   "source": []
  }
 ],
 "metadata": {
  "kernelspec": {
   "display_name": "Python 2",
   "language": "python",
   "name": "python2"
  },
  "language_info": {
   "codemirror_mode": {
    "name": "ipython",
    "version": 2
   },
   "file_extension": ".py",
   "mimetype": "text/x-python",
   "name": "python",
   "nbconvert_exporter": "python",
   "pygments_lexer": "ipython2",
   "version": "2.7.13"
  }
 },
 "nbformat": 4,
 "nbformat_minor": 2
}
