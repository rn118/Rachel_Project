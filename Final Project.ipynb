{
 "cells": [
  {
   "cell_type": "markdown",
   "metadata": {},
   "source": [
    "# REVIEWS AS A PREDICTOR OF SALES\n",
    "###### By Rachel Nord, DS-SEA-07"
   ]
  },
  {
   "cell_type": "markdown",
   "metadata": {},
   "source": [
    "## Background / Problem Statement\n",
    "Reviews drive orders.  We know that products that have reviews and have high average rating of reviews sell better than those that don’t.  However, are there features in the ratings that are more likely to drive purchases than others?  And can we use these features to build a model that will predict orders placed?\n"
   ]
  },
  {
   "cell_type": "markdown",
   "metadata": {},
   "source": [
    "## Data\n",
    "### Data Import\n",
    "I uploaded a csv file of from Bazaarvoice, the vendor we use to capture and enable user generated content on rei.com. The dimensions of this data are by average overall rating, total reviews, percent recommended to a friend, average estimated word count, percent of reviews that were 5-star, specialty shop, number of uploaded photos, price.\n",
    "\n",
    "I then joined this data with data on orders placed, price of item, and each level of of REI's internal merchandising hierarchy (Specialty Shop, Department, Class, Subclass).\n",
    "\n",
    "### Pre-processing Steps Taken\n"
   ]
  },
  {
   "cell_type": "code",
   "execution_count": 151,
   "metadata": {
    "collapsed": true
   },
   "outputs": [],
   "source": [
    "import pandas as pd\n",
    "import numpy as np\n",
    "import matplotlib.pyplot as plt\n",
    "import seaborn as sns\n",
    "\n",
    "# display plots in the notebook\n",
    "%matplotlib inline\n",
    "\n",
    "# increase default figure and font sizes for easier viewing\n",
    "plt.rcParams# increase default figure and font sizes for easier viewing\n",
    "plt.rcParams['figure.figsize'] = (15, 6)\n",
    "plt.rcParams['font.size'] = 14\n"
   ]
  },
  {
   "cell_type": "markdown",
   "metadata": {},
   "source": [
    "Most preprocessing was done in prior to the data import since I used SQL to join my two data sources.  At this point I calculated the standard deviation of the review scores for each product.  The Bazaarvoice data is based on a moment in time on 10/20/17.  So I filtered order and traffic data for the month of October.  I also created dummy variables for each specialty shop.\n",
    "\n",
    "The end result was 18,297 different products and 37 different features to analyze."
   ]
  },
  {
   "cell_type": "code",
   "execution_count": 152,
   "metadata": {},
   "outputs": [],
   "source": [
    "# read in data\n",
    "path = '/Users/rnord/GA Data Science/temp_repos/DS-SEA-07/project/'\n",
    "url = path + 'Bazaar_by_product_TRAFFIC.csv'\n",
    "prod = pd.read_csv(url, delimiter = '|')\n",
    "\n",
    "# Add Standard Deviation\n",
    "prod['STD'] = np.sqrt(prod['VARIANCE_'])\n",
    "\n",
    "#Look at latest month\n",
    "prod_oct = prod[prod['MONTH_CODE'] == 201710]\n"
   ]
  },
  {
   "cell_type": "code",
   "execution_count": 153,
   "metadata": {},
   "outputs": [],
   "source": [
    "# create dummy variables for shop\n",
    "shop_dummies = pd.get_dummies(prod_oct.SHOP_DESC, prefix='shop')\n"
   ]
  },
  {
   "cell_type": "code",
   "execution_count": 154,
   "metadata": {},
   "outputs": [
    {
     "data": {
      "text/html": [
       "<div>\n",
       "<style>\n",
       "    .dataframe thead tr:only-child th {\n",
       "        text-align: right;\n",
       "    }\n",
       "\n",
       "    .dataframe thead th {\n",
       "        text-align: left;\n",
       "    }\n",
       "\n",
       "    .dataframe tbody tr th {\n",
       "        vertical-align: top;\n",
       "    }\n",
       "</style>\n",
       "<table border=\"1\" class=\"dataframe\">\n",
       "  <thead>\n",
       "    <tr style=\"text-align: right;\">\n",
       "      <th></th>\n",
       "      <th>MONTH_CODE</th>\n",
       "      <th>PRODUCT</th>\n",
       "      <th>SUBCLASS_DESC</th>\n",
       "      <th>CLASS_DESC</th>\n",
       "      <th>DEPARTMENT_DESC</th>\n",
       "      <th>SHOP_DESC</th>\n",
       "      <th>VISITS</th>\n",
       "      <th>ORDERS</th>\n",
       "      <th>CONVERSION</th>\n",
       "      <th>INDEX</th>\n",
       "      <th>...</th>\n",
       "      <th>shop_CLIMBING</th>\n",
       "      <th>shop_CYCLING</th>\n",
       "      <th>shop_HIKE &amp; LIFESTYLE FOOTWEAR, SOCKS, BASICS</th>\n",
       "      <th>shop_MISCELLANEOUS</th>\n",
       "      <th>shop_OUTDOOR CROSS TRAINING</th>\n",
       "      <th>shop_OUTDOOR ESSENTIALS</th>\n",
       "      <th>shop_REI GARAGE</th>\n",
       "      <th>shop_SNOWSPORTS</th>\n",
       "      <th>shop_TRAVEL</th>\n",
       "      <th>shop_WATERSPORTS</th>\n",
       "    </tr>\n",
       "  </thead>\n",
       "  <tbody>\n",
       "    <tr>\n",
       "      <th>56311</th>\n",
       "      <td>201710</td>\n",
       "      <td>790592</td>\n",
       "      <td>SNACK BARS</td>\n",
       "      <td>BARS</td>\n",
       "      <td>FOOD</td>\n",
       "      <td>OUTDOOR ESSENTIALS</td>\n",
       "      <td>58</td>\n",
       "      <td>5</td>\n",
       "      <td>0.086207</td>\n",
       "      <td>39962</td>\n",
       "      <td>...</td>\n",
       "      <td>0</td>\n",
       "      <td>0</td>\n",
       "      <td>0</td>\n",
       "      <td>0</td>\n",
       "      <td>0</td>\n",
       "      <td>1</td>\n",
       "      <td>0</td>\n",
       "      <td>0</td>\n",
       "      <td>0</td>\n",
       "      <td>0</td>\n",
       "    </tr>\n",
       "    <tr>\n",
       "      <th>45272</th>\n",
       "      <td>201710</td>\n",
       "      <td>122278</td>\n",
       "      <td>SNOWSHOES</td>\n",
       "      <td>CYCLE-SNOW-PADDLE</td>\n",
       "      <td>REI GARAGE</td>\n",
       "      <td>REI GARAGE</td>\n",
       "      <td>437</td>\n",
       "      <td>18</td>\n",
       "      <td>0.041190</td>\n",
       "      <td>44694</td>\n",
       "      <td>...</td>\n",
       "      <td>0</td>\n",
       "      <td>0</td>\n",
       "      <td>0</td>\n",
       "      <td>0</td>\n",
       "      <td>0</td>\n",
       "      <td>0</td>\n",
       "      <td>1</td>\n",
       "      <td>0</td>\n",
       "      <td>0</td>\n",
       "      <td>0</td>\n",
       "    </tr>\n",
       "    <tr>\n",
       "      <th>74790</th>\n",
       "      <td>201710</td>\n",
       "      <td>898239</td>\n",
       "      <td>TOPS</td>\n",
       "      <td>WOMEN'S TOPS</td>\n",
       "      <td>WOMEN'S UNDERWEAR</td>\n",
       "      <td>OUTDOOR CROSS TRAINING</td>\n",
       "      <td>129</td>\n",
       "      <td>7</td>\n",
       "      <td>0.054264</td>\n",
       "      <td>62095</td>\n",
       "      <td>...</td>\n",
       "      <td>0</td>\n",
       "      <td>0</td>\n",
       "      <td>0</td>\n",
       "      <td>0</td>\n",
       "      <td>1</td>\n",
       "      <td>0</td>\n",
       "      <td>0</td>\n",
       "      <td>0</td>\n",
       "      <td>0</td>\n",
       "      <td>0</td>\n",
       "    </tr>\n",
       "    <tr>\n",
       "      <th>39673</th>\n",
       "      <td>201710</td>\n",
       "      <td>747206</td>\n",
       "      <td>NON WATERPROOF</td>\n",
       "      <td>WOMEN'S HIKING MID HEIGHT</td>\n",
       "      <td>HIKING FOOTWEAR</td>\n",
       "      <td>HIKE &amp; LIFESTYLE FOOTWEAR, SOCKS, BASICS</td>\n",
       "      <td>45</td>\n",
       "      <td>4</td>\n",
       "      <td>0.088889</td>\n",
       "      <td>51003</td>\n",
       "      <td>...</td>\n",
       "      <td>0</td>\n",
       "      <td>0</td>\n",
       "      <td>1</td>\n",
       "      <td>0</td>\n",
       "      <td>0</td>\n",
       "      <td>0</td>\n",
       "      <td>0</td>\n",
       "      <td>0</td>\n",
       "      <td>0</td>\n",
       "      <td>0</td>\n",
       "    </tr>\n",
       "    <tr>\n",
       "      <th>73475</th>\n",
       "      <td>201710</td>\n",
       "      <td>858583</td>\n",
       "      <td>GUIDES</td>\n",
       "      <td>BOOKS</td>\n",
       "      <td>OUTDOOR IMPULSE</td>\n",
       "      <td>OUTDOOR ESSENTIALS</td>\n",
       "      <td>24</td>\n",
       "      <td>0</td>\n",
       "      <td>0.000000</td>\n",
       "      <td>27687</td>\n",
       "      <td>...</td>\n",
       "      <td>0</td>\n",
       "      <td>0</td>\n",
       "      <td>0</td>\n",
       "      <td>0</td>\n",
       "      <td>0</td>\n",
       "      <td>1</td>\n",
       "      <td>0</td>\n",
       "      <td>0</td>\n",
       "      <td>0</td>\n",
       "      <td>0</td>\n",
       "    </tr>\n",
       "  </tbody>\n",
       "</table>\n",
       "<p>5 rows × 49 columns</p>\n",
       "</div>"
      ],
      "text/plain": [
       "       MONTH_CODE  PRODUCT   SUBCLASS_DESC                 CLASS_DESC  \\\n",
       "56311      201710   790592      SNACK BARS                       BARS   \n",
       "45272      201710   122278       SNOWSHOES          CYCLE-SNOW-PADDLE   \n",
       "74790      201710   898239            TOPS               WOMEN'S TOPS   \n",
       "39673      201710   747206  NON WATERPROOF  WOMEN'S HIKING MID HEIGHT   \n",
       "73475      201710   858583          GUIDES                      BOOKS   \n",
       "\n",
       "         DEPARTMENT_DESC                                 SHOP_DESC  VISITS  \\\n",
       "56311               FOOD                        OUTDOOR ESSENTIALS      58   \n",
       "45272         REI GARAGE                                REI GARAGE     437   \n",
       "74790  WOMEN'S UNDERWEAR                    OUTDOOR CROSS TRAINING     129   \n",
       "39673    HIKING FOOTWEAR  HIKE & LIFESTYLE FOOTWEAR, SOCKS, BASICS      45   \n",
       "73475    OUTDOOR IMPULSE                        OUTDOOR ESSENTIALS      24   \n",
       "\n",
       "       ORDERS  CONVERSION  INDEX        ...        shop_CLIMBING  \\\n",
       "56311       5    0.086207  39962        ...                    0   \n",
       "45272      18    0.041190  44694        ...                    0   \n",
       "74790       7    0.054264  62095        ...                    0   \n",
       "39673       4    0.088889  51003        ...                    0   \n",
       "73475       0    0.000000  27687        ...                    0   \n",
       "\n",
       "       shop_CYCLING shop_HIKE & LIFESTYLE FOOTWEAR, SOCKS, BASICS  \\\n",
       "56311             0                                             0   \n",
       "45272             0                                             0   \n",
       "74790             0                                             0   \n",
       "39673             0                                             1   \n",
       "73475             0                                             0   \n",
       "\n",
       "       shop_MISCELLANEOUS  shop_OUTDOOR CROSS TRAINING  \\\n",
       "56311                   0                            0   \n",
       "45272                   0                            0   \n",
       "74790                   0                            1   \n",
       "39673                   0                            0   \n",
       "73475                   0                            0   \n",
       "\n",
       "       shop_OUTDOOR ESSENTIALS  shop_REI GARAGE  shop_SNOWSPORTS  shop_TRAVEL  \\\n",
       "56311                        1                0                0            0   \n",
       "45272                        0                1                0            0   \n",
       "74790                        0                0                0            0   \n",
       "39673                        0                0                0            0   \n",
       "73475                        1                0                0            0   \n",
       "\n",
       "       shop_WATERSPORTS  \n",
       "56311                 0  \n",
       "45272                 0  \n",
       "74790                 0  \n",
       "39673                 0  \n",
       "73475                 0  \n",
       "\n",
       "[5 rows x 49 columns]"
      ]
     },
     "execution_count": 154,
     "metadata": {},
     "output_type": "execute_result"
    }
   ],
   "source": [
    "# concatenate the original DataFrame and the dummy DataFrame (axis=0 means rows, axis=1 means columns)\n",
    "prod_oct = pd.concat([prod_oct, shop_dummies], axis=1)\n",
    "\n",
    "# print 5 random rows\n",
    "prod_oct.sample(n=5, random_state=1)\n"
   ]
  },
  {
   "cell_type": "markdown",
   "metadata": {},
   "source": [
    "### Features Used"
   ]
  },
  {
   "cell_type": "code",
   "execution_count": 155,
   "metadata": {},
   "outputs": [
    {
     "data": {
      "text/plain": [
       "Index([u'MONTH_CODE', u'PRODUCT', u'SUBCLASS_DESC', u'CLASS_DESC',\n",
       "       u'DEPARTMENT_DESC', u'SHOP_DESC', u'VISITS', u'ORDERS', u'CONVERSION',\n",
       "       u'INDEX', u'PRODUCT_NAME', u'PRODUCT_ID', u'CATEGORY',\n",
       "       u'AVERAGE_OVERALL_RATING', u'TOTAL_SUBMITTED__REVIEWS',\n",
       "       u'TOTAL_SUBMITTED__RATINGS_ONLY_REVIEWS', u'PCT_RECOMMEND_TO_A_FRIEND',\n",
       "       u'AVERAGE_EST_REVIEW_WORD_COUNT', u'PCT_5_STAR', u'PCT_4_STAR',\n",
       "       u'PCT_3_STAR', u'PCT_2_STAR', u'PCT_1_STAR', u'TOTAL_HELPFULNESS_VOTES',\n",
       "       u'PCT_YES', u'PCT_NO', u'NUM_UPLOADED_PHOTOS', u'NUM_UPLOADED_VIDEOS',\n",
       "       u'PRODUCT.1', u'PRICE', u'REVIEWS_5', u'REVIEWS_4', u'REVIEWS_3',\n",
       "       u'REVIEWS_2', u'REVIEWS_1', u'VARIANCE_', u'STD', u'shop_APPAREL',\n",
       "       u'shop_CAMPING', u'shop_CLIMBING', u'shop_CYCLING',\n",
       "       u'shop_HIKE & LIFESTYLE FOOTWEAR, SOCKS, BASICS', u'shop_MISCELLANEOUS',\n",
       "       u'shop_OUTDOOR CROSS TRAINING', u'shop_OUTDOOR ESSENTIALS',\n",
       "       u'shop_REI GARAGE', u'shop_SNOWSPORTS', u'shop_TRAVEL',\n",
       "       u'shop_WATERSPORTS'],\n",
       "      dtype='object')"
      ]
     },
     "execution_count": 155,
     "metadata": {},
     "output_type": "execute_result"
    }
   ],
   "source": [
    "prod_oct.columns\n"
   ]
  },
  {
   "cell_type": "markdown",
   "metadata": {},
   "source": [
    "### Response Variable\n",
    "The response variable that was tested was `Orders`."
   ]
  },
  {
   "attachments": {},
   "cell_type": "markdown",
   "metadata": {},
   "source": [
    "### Data Exploration\n",
    "- Total number of reviews written for each product"
   ]
  },
  {
   "cell_type": "code",
   "execution_count": 156,
   "metadata": {},
   "outputs": [
    {
     "data": {
      "text/plain": [
       "<matplotlib.text.Text at 0x166d0fd0>"
      ]
     },
     "execution_count": 156,
     "metadata": {},
     "output_type": "execute_result"
    },
    {
     "data": {
      "image/png": "[encoded data removed]",
      "text/plain": [
       "<matplotlib.figure.Figure at 0x2e66c438>"
      ]
     },
     "metadata": {},
     "output_type": "display_data"
    }
   ],
   "source": [
    "# Total Submitted Reviews\n",
    "prod_oct.TOTAL_SUBMITTED__REVIEWS[prod_oct.TOTAL_SUBMITTED__REVIEWS < 50].plot(kind='hist', bins=100)\n",
    "plt.xlabel('TOTAL_SUBMITTED__REVIEWS')\n",
    "plt.ylabel('Frequency')"
   ]
  },
  {
   "cell_type": "markdown",
   "metadata": {},
   "source": [
    "- Of all products currently available on rei.com, most have no reviews, followed by those with an average score of 5."
   ]
  },
  {
   "cell_type": "code",
   "execution_count": 157,
   "metadata": {},
   "outputs": [
    {
     "data": {
      "text/plain": [
       "<matplotlib.text.Text at 0x2e66c6a0>"
      ]
     },
     "execution_count": 157,
     "metadata": {},
     "output_type": "execute_result"
    },
    {
     "data": {
      "image/png": "[encoded data removed]",
      "text/plain": [
       "<matplotlib.figure.Figure at 0x2e732470>"
      ]
     },
     "metadata": {},
     "output_type": "display_data"
    }
   ],
   "source": [
    "# Average Overall Rating\n",
    "prod_oct.AVERAGE_OVERALL_RATING.plot(kind='hist', bins=20)\n",
    "plt.xlabel('AVERAGE_OVERALL_RATING')\n",
    "plt.ylabel('Frequency')"
   ]
  },
  {
   "cell_type": "markdown",
   "metadata": {},
   "source": [
    "- Most products fall into the Garage category (which are all discounted products); followed by Camping"
   ]
  },
  {
   "cell_type": "code",
   "execution_count": 158,
   "metadata": {},
   "outputs": [
    {
     "data": {
      "text/plain": [
       "<matplotlib.axes._subplots.AxesSubplot at 0x30ecaf98>"
      ]
     },
     "execution_count": 158,
     "metadata": {},
     "output_type": "execute_result"
    },
    {
     "data": {
      "image/png": "[encoded data removed]",
      "text/plain": [
       "<matplotlib.figure.Figure at 0x16afabe0>"
      ]
     },
     "metadata": {},
     "output_type": "display_data"
    }
   ],
   "source": [
    "sns.countplot(x='SHOP_DESC', data=prod_oct)"
   ]
  },
  {
   "cell_type": "markdown",
   "metadata": {},
   "source": [
    "### Correlation Heat Map\n",
    "\n",
    "Based on the below heatmap, the strongest correlation with orders and order conversion are percent of reviews recommended to friends, total reviews, especially the number of 5-star reviews, total helpfulness votes."
   ]
  },
  {
   "cell_type": "code",
   "execution_count": 159,
   "metadata": {},
   "outputs": [
    {
     "data": {
      "text/plain": [
       "<matplotlib.axes._subplots.AxesSubplot at 0x2ec212e8>"
      ]
     },
     "execution_count": 159,
     "metadata": {},
     "output_type": "execute_result"
    },
    {
     "data": {
      "image/png": "[encoded data removed]",
      "text/plain": [
       "<matplotlib.figure.Figure at 0x31213048>"
      ]
     },
     "metadata": {},
     "output_type": "display_data"
    }
   ],
   "source": [
    "# visualize correlation matrix in Seaborn using a heatmap\n",
    "sns.heatmap(prod_oct.corr())"
   ]
  },
  {
   "cell_type": "code",
   "execution_count": 160,
   "metadata": {},
   "outputs": [],
   "source": [
    "# create a list of features\n",
    "feature_cols = ['AVERAGE_OVERALL_RATING', 'TOTAL_SUBMITTED__REVIEWS', \n",
    "                'TOTAL_SUBMITTED__RATINGS_ONLY_REVIEWS', 'PCT_RECOMMEND_TO_A_FRIEND',\n",
    "                'AVERAGE_EST_REVIEW_WORD_COUNT', 'PCT_5_STAR', 'PCT_4_STAR', 'PCT_3_STAR', 'PCT_2_STAR', 'PCT_1_STAR', \n",
    "                'PCT_YES', 'PCT_NO', 'NUM_UPLOADED_PHOTOS', 'NUM_UPLOADED_VIDEOS', 'PRICE', 'REVIEWS_5', \n",
    "                'REVIEWS_4', 'REVIEWS_3', 'REVIEWS_2', 'REVIEWS_1', 'VARIANCE_', 'STD', 'shop_APPAREL', 'shop_CAMPING', \n",
    "                'shop_CLIMBING', 'shop_CYCLING', 'shop_HIKE & LIFESTYLE FOOTWEAR, SOCKS, BASICS', 'shop_MISCELLANEOUS', \n",
    "                'shop_OUTDOOR CROSS TRAINING', 'shop_OUTDOOR ESSENTIALS', 'shop_REI GARAGE', 'shop_SNOWSPORTS', 'shop_TRAVEL', \n",
    "                'shop_WATERSPORTS']\n",
    "\n"
   ]
  },
  {
   "cell_type": "code",
   "execution_count": 161,
   "metadata": {},
   "outputs": [
    {
     "data": {
      "text/plain": [
       "LinearRegression(copy_X=True, fit_intercept=True, n_jobs=1, normalize=False)"
      ]
     },
     "execution_count": 161,
     "metadata": {},
     "output_type": "execute_result"
    }
   ],
   "source": [
    "# Creation of feature matrix and response vector\n",
    "# Importation of chosen estimato; instantiation into a variable\n",
    "# Fit the model with the X and y\n",
    "\n",
    "X = prod_oct[feature_cols]\n",
    "y = prod_oct['ORDERS']\n",
    "\n",
    "from sklearn.linear_model import LinearRegression\n",
    "linreg = LinearRegression()\n",
    "linreg.fit(X, y)\n",
    "\n"
   ]
  },
  {
   "cell_type": "code",
   "execution_count": 162,
   "metadata": {},
   "outputs": [
    {
     "name": "stdout",
     "output_type": "stream",
     "text": [
      "5.82686471781\n",
      "[ -5.26552356e+01   3.03166251e+00   9.13249955e-01   6.66304928e+00\n",
      "  -4.09352609e-02   2.56868026e+02   2.02791826e+02   1.45170906e+02\n",
      "   9.79869520e+01   4.27050793e+01   6.53581819e+00   6.47257194e+00\n",
      "  -6.28115531e-01   2.64076055e+00  -3.40301591e-03  -1.49855283e+00\n",
      "  -5.06061294e+00  -2.63076201e+00  -3.78273794e+00  -2.44111797e+00\n",
      "  -2.38504732e-01   3.07719950e+00   2.93753747e+00  -2.74380280e+00\n",
      "  -2.58135143e+00  -3.91894038e+00   2.69262963e+00  -6.12141344e+00\n",
      "   1.78310327e+00  -2.87094734e+00   1.94959197e+01  -1.20987092e+00\n",
      "  -3.93644050e+00  -3.52642330e+00]\n"
     ]
    }
   ],
   "source": [
    "\n",
    "# print the coefficients\n",
    "print linreg.intercept_\n",
    "print linreg.coef_\n"
   ]
  },
  {
   "cell_type": "code",
   "execution_count": 163,
   "metadata": {},
   "outputs": [
    {
     "data": {
      "text/plain": [
       "[('AVERAGE_OVERALL_RATING', -52.655235583361723),\n",
       " ('TOTAL_SUBMITTED__REVIEWS', 3.0316625127679053),\n",
       " ('TOTAL_SUBMITTED__RATINGS_ONLY_REVIEWS', 0.91324995509292184),\n",
       " ('PCT_RECOMMEND_TO_A_FRIEND', 6.6630492822762193),\n",
       " ('AVERAGE_EST_REVIEW_WORD_COUNT', -0.0409352608946012),\n",
       " ('PCT_5_STAR', 256.86802636373284),\n",
       " ('PCT_4_STAR', 202.79182585372962),\n",
       " ('PCT_3_STAR', 145.17090571353927),\n",
       " ('PCT_2_STAR', 97.9869519547279),\n",
       " ('PCT_1_STAR', 42.705079260835198),\n",
       " ('PCT_YES', 6.5358181882610538),\n",
       " ('PCT_NO', 6.4725719381903586),\n",
       " ('NUM_UPLOADED_PHOTOS', -0.62811553124052466),\n",
       " ('NUM_UPLOADED_VIDEOS', 2.6407605540965311),\n",
       " ('PRICE', -0.0034030159142233174),\n",
       " ('REVIEWS_5', -1.4985528329088709),\n",
       " ('REVIEWS_4', -5.0606129439552063),\n",
       " ('REVIEWS_3', -2.6307620136855121),\n",
       " ('REVIEWS_2', -3.7827379364633344),\n",
       " ('REVIEWS_1', -2.4411179667822296),\n",
       " ('VARIANCE_', -0.23850473235924596),\n",
       " ('STD', 3.0771994992459213),\n",
       " ('shop_APPAREL', 2.9375374661557481),\n",
       " ('shop_CAMPING', -2.7438027982496616),\n",
       " ('shop_CLIMBING', -2.581351431257052),\n",
       " ('shop_CYCLING', -3.9189403794514721),\n",
       " ('shop_HIKE & LIFESTYLE FOOTWEAR, SOCKS, BASICS', 2.6926296273052479),\n",
       " ('shop_MISCELLANEOUS', -6.1214134363929071),\n",
       " ('shop_OUTDOOR CROSS TRAINING', 1.7831032682460348),\n",
       " ('shop_OUTDOOR ESSENTIALS', -2.8709473372079808),\n",
       " ('shop_REI GARAGE', 19.495919732689536),\n",
       " ('shop_SNOWSPORTS', -1.2098709165223411),\n",
       " ('shop_TRAVEL', -3.936440496789178),\n",
       " ('shop_WATERSPORTS', -3.5264232985656112)]"
      ]
     },
     "execution_count": 163,
     "metadata": {},
     "output_type": "execute_result"
    }
   ],
   "source": [
    "# pair the feature names with the coefficients\n",
    "zip(feature_cols, linreg.coef_)"
   ]
  },
  {
   "cell_type": "markdown",
   "metadata": {},
   "source": [
    "The most impactful features are:\n",
    "\n",
    "- Holding all other features fixed, a 1 unit increase in **Pct 5-Star Reviews** is associated with an **order increase of 257 products**.\n",
    "- Holding all other features fixed, a 1 unit increase in **Average Overall Rating** is associated with a **order increase of 53 products**.\n",
    "- Holding all other features fixed, a 1 unit increase in **REI Garage Prodcut** is associated with a **order increase of 19 products**."
   ]
  },
  {
   "cell_type": "markdown",
   "metadata": {
    "collapsed": true
   },
   "source": [
    "## Modeling\n",
    "\n",
    "### Simple Linear Regression\n",
    "I first ran a simple linear regression model to get a sense of the null RSME."
   ]
  },
  {
   "cell_type": "code",
   "execution_count": 164,
   "metadata": {
    "collapsed": true
   },
   "outputs": [],
   "source": [
    "#from sklearn.cross_validation import train_test_split # deprecated syntax\n",
    "from sklearn.model_selection import train_test_split\n",
    "from sklearn import metrics\n",
    "\n",
    "\n",
    "# define a function that accepts a list of features and returns testing RMSE\n",
    "def train_test_rmse(feature_cols):\n",
    "    X = prod_oct[feature_cols]\n",
    "    y = prod_oct['ORDERS']\n",
    "    X_train, X_test, y_train, y_test = train_test_split(X, y, random_state=123)\n",
    "    linreg = LinearRegression()\n",
    "    linreg.fit(X_train, y_train)\n",
    "    y_pred = linreg.predict(X_test)\n",
    "    return np.sqrt(metrics.mean_squared_error(y_test, y_pred))\n"
   ]
  },
  {
   "cell_type": "code",
   "execution_count": 165,
   "metadata": {},
   "outputs": [
    {
     "data": {
      "text/plain": [
       "array([ 15.29311475,  15.29311475,  15.29311475, ...,  15.29311475,\n",
       "        15.29311475,  15.29311475])"
      ]
     },
     "execution_count": 165,
     "metadata": {},
     "output_type": "execute_result"
    }
   ],
   "source": [
    "# split X and y into training and testing sets\n",
    "X_train, X_test, y_train, y_test = train_test_split(X, y, random_state=1)\n",
    "\n",
    "# create a NumPy array with the same shape as y_test\n",
    "y_null = np.zeros_like(y_test, dtype=float)\n",
    "\n",
    "# fill the array with the mean value of y_test\n",
    "y_null.fill(y_test.mean())\n",
    "y_null\n"
   ]
  },
  {
   "cell_type": "code",
   "execution_count": 166,
   "metadata": {},
   "outputs": [
    {
     "data": {
      "text/plain": [
       "39.827584512652969"
      ]
     },
     "execution_count": 166,
     "metadata": {},
     "output_type": "execute_result"
    }
   ],
   "source": [
    "np.sqrt(metrics.mean_squared_error(y_test, y_null))"
   ]
  },
  {
   "cell_type": "markdown",
   "metadata": {
    "collapsed": true
   },
   "source": [
    "Changing the random state in the test/train split gave me a null RSME ranging from **34 to 40**.\n"
   ]
  },
  {
   "cell_type": "markdown",
   "metadata": {},
   "source": [
    "### Cross Validation\n",
    "\n",
    "I next used a 10-fold cross-validation to calculate the RMSE for the linear regression model.  The RMSE when using all features was 36.81. "
   ]
  },
  {
   "cell_type": "code",
   "execution_count": 167,
   "metadata": {},
   "outputs": [
    {
     "name": "stdout",
     "output_type": "stream",
     "text": [
      "[-1768.51303543 -1623.55252236 -1218.91319338  -678.66206974 -2179.63185167\n",
      " -1070.82500042 -1021.76958623 -1385.60057806 -1180.67262934 -1750.35384928]\n",
      "36.810802857\n"
     ]
    }
   ],
   "source": [
    "# save the 10 MSE scores output by cross_val_score\n",
    "from sklearn.model_selection import cross_val_score\n",
    "mse_scores = cross_val_score(linreg, X, y, cv=10, scoring='neg_mean_squared_error')\n",
    "print mse_scores\n",
    "print np.mean(np.sqrt(-mse_scores))"
   ]
  },
  {
   "cell_type": "markdown",
   "metadata": {},
   "source": [
    "Then I tuned my model, attempting to increase the accuracy by excluding some of the features from the model.\n",
    "Of the models I ran, this was the only one that beat the cross-validation model with all features included:\n",
    "- 'PCT_RECOMMEND_TO_A_FRIEND'\n",
    "- 'AVERAGE_EST_REVIEW_WORD_COUNT' \n",
    "- 'PCT_YES'\n",
    "- 'PCT_NO'\n",
    "- 'PRICE'\n",
    "- 'REVIEWS_5' \n",
    "- 'REVIEWS_4'\n",
    "- 'REVIEWS_1'\n",
    "- 'shop_CAMPING' \n",
    "- 'shop_CLIMBING'\n",
    "- 'shop_CYCLING'\n",
    "- 'shop_MISCELLANEOUS' \n",
    "- 'shop_OUTDOOR ESSENTIALS'\n",
    "- 'shop_REI GARAGE'\n",
    "- 'shop_SNOWSPORTS'\n",
    "- 'shop_TRAVEL' \n",
    "- 'shop_WATERSPORTS' \n"
   ]
  },
  {
   "cell_type": "code",
   "execution_count": 168,
   "metadata": {},
   "outputs": [
    {
     "name": "stdout",
     "output_type": "stream",
     "text": [
      "[-1765.61127464 -1625.79836302 -1218.00575853  -678.9925136  -2178.6370261\n",
      " -1069.78461497 -1018.08719135 -1373.74348905 -1179.82359175 -1741.34408722]\n",
      "36.7730725297\n"
     ]
    }
   ],
   "source": [
    "# 10-fold cross-validation with best test-train features\n",
    "# this was the best combo I could find.\n",
    "feature_cols = [ 'PCT_RECOMMEND_TO_A_FRIEND',\n",
    "                'AVERAGE_EST_REVIEW_WORD_COUNT', \n",
    "                'PCT_YES', 'PCT_NO', 'PRICE', 'REVIEWS_5', \n",
    "                'REVIEWS_4', 'REVIEWS_1', 'shop_CAMPING', \n",
    "                'shop_CLIMBING', 'shop_CYCLING', 'shop_MISCELLANEOUS', \n",
    "                'shop_OUTDOOR ESSENTIALS', 'shop_REI GARAGE', 'shop_SNOWSPORTS', 'shop_TRAVEL', \n",
    "                'shop_WATERSPORTS']\n",
    "X = prod_oct[feature_cols]\n",
    "\n",
    "mse_scores = cross_val_score(linreg, X, y, cv=10, scoring='neg_mean_squared_error')\n",
    "print mse_scores\n",
    "print np.sqrt(-cross_val_score(linreg, X, y, cv=10, scoring='neg_mean_squared_error')).mean()"
   ]
  },
  {
   "cell_type": "markdown",
   "metadata": {},
   "source": [
    "A sampling of the other combinations I tried:"
   ]
  },
  {
   "cell_type": "code",
   "execution_count": 169,
   "metadata": {},
   "outputs": [
    {
     "name": "stdout",
     "output_type": "stream",
     "text": [
      "36.9522125235\n"
     ]
    }
   ],
   "source": [
    "# 10-fold cross-validation with best test-train features\n",
    "feature_cols = ['PCT_5_STAR',  'PCT_4_STAR', 'PCT_3_STAR',  'PCT_2_STAR',  'PCT_1_STAR',  'AVERAGE_OVERALL_RATING', \n",
    "                       'shop_REI GARAGE', 'TOTAL_SUBMITTED__RATINGS_ONLY_REVIEWS', 'STD',  'TOTAL_SUBMITTED__REVIEWS',  \n",
    "                       'PCT_RECOMMEND_TO_A_FRIEND',  'PCT_YES',  'shop_CAMPING',  'REVIEWS_5',  'shop_OUTDOOR ESSENTIALS', \n",
    "                       'shop_APPAREL', 'shop_HIKE & LIFESTYLE FOOTWEAR, SOCKS, BASICS',  'PRICE']\n",
    "X = prod_oct[feature_cols]\n",
    "print np.sqrt(-cross_val_score(linreg, X, y, cv=10, scoring='neg_mean_squared_error')).mean()"
   ]
  },
  {
   "cell_type": "code",
   "execution_count": 170,
   "metadata": {},
   "outputs": [
    {
     "name": "stdout",
     "output_type": "stream",
     "text": [
      "37.3154109583\n"
     ]
    }
   ],
   "source": [
    "# 10-fold cross-validation with best test-train features\n",
    "feature_cols = ['shop_REI GARAGE', 'PCT_5_STAR', 'PCT_YES', 'PCT_RECOMMEND_TO_A_FRIEND', \n",
    "                       'shop_HIKE & LIFESTYLE FOOTWEAR, SOCKS, BASICS', 'shop_APPAREL', 'shop_OUTDOOR CROSS TRAINING', \n",
    "                       'TOTAL_SUBMITTED__REVIEWS', 'PCT_1_STAR']\n",
    "X = prod_oct[feature_cols]\n",
    "print np.sqrt(-cross_val_score(linreg, X, y, cv=10, scoring='neg_mean_squared_error')).mean()"
   ]
  },
  {
   "cell_type": "code",
   "execution_count": 171,
   "metadata": {},
   "outputs": [
    {
     "name": "stdout",
     "output_type": "stream",
     "text": [
      "38.7904094593\n"
     ]
    }
   ],
   "source": [
    "# 10-fold cross-validation with best test-train features\n",
    "feature_cols = ['AVERAGE_OVERALL_RATING', 'PCT_RECOMMEND_TO_A_FRIEND', 'PCT_YES', 'NUM_UPLOADED_PHOTOS', \n",
    "                       'PCT_5_STAR']\n",
    "X = prod_oct[feature_cols]\n",
    "print np.sqrt(-cross_val_score(linreg, X, y, cv=10, scoring='neg_mean_squared_error')).mean()"
   ]
  },
  {
   "cell_type": "markdown",
   "metadata": {},
   "source": [
    "## Dimension Reduction - Principal Component Analysis\n",
    "As was evident in the heat map in the Data Exploration section, several features in my model have high correlation with each other.  My next step was to eliminate the redundancy in the feature columns and to come up with simpler but no less accurate model."
   ]
  },
  {
   "cell_type": "code",
   "execution_count": 172,
   "metadata": {
    "collapsed": true
   },
   "outputs": [],
   "source": [
    "from mpl_toolkits.mplot3d import Axes3D\n",
    "from sklearn import decomposition\n",
    "from sklearn.model_selection import cross_val_score"
   ]
  },
  {
   "cell_type": "code",
   "execution_count": 173,
   "metadata": {
    "collapsed": true
   },
   "outputs": [],
   "source": [
    "# return X to ALL Feature Columns\n",
    "feature_cols = ['AVERAGE_OVERALL_RATING', 'TOTAL_SUBMITTED__REVIEWS', \n",
    "                'TOTAL_SUBMITTED__RATINGS_ONLY_REVIEWS', 'PCT_RECOMMEND_TO_A_FRIEND',\n",
    "                'AVERAGE_EST_REVIEW_WORD_COUNT', 'PCT_5_STAR', 'PCT_4_STAR', 'PCT_3_STAR', 'PCT_2_STAR', 'PCT_1_STAR', \n",
    "                'PCT_YES', 'PCT_NO', 'NUM_UPLOADED_PHOTOS', 'NUM_UPLOADED_VIDEOS', 'PRICE', 'REVIEWS_5', \n",
    "                'REVIEWS_4', 'REVIEWS_3', 'REVIEWS_2', 'REVIEWS_1', 'VARIANCE_', 'STD', 'shop_APPAREL', 'shop_CAMPING', \n",
    "                'shop_CLIMBING', 'shop_CYCLING', 'shop_HIKE & LIFESTYLE FOOTWEAR, SOCKS, BASICS', 'shop_MISCELLANEOUS', \n",
    "                'shop_OUTDOOR CROSS TRAINING', 'shop_OUTDOOR ESSENTIALS', 'shop_REI GARAGE', 'shop_SNOWSPORTS', 'shop_TRAVEL', \n",
    "                'shop_WATERSPORTS']\n",
    "X = prod_oct[feature_cols]"
   ]
  },
  {
   "cell_type": "code",
   "execution_count": 174,
   "metadata": {},
   "outputs": [
    {
     "name": "stdout",
     "output_type": "stream",
     "text": [
      "explained variance ratio (all 34 components):  [  9.14739485e-01   6.77318729e-02   1.31067354e-02   4.27217336e-03\n",
      "   8.23755761e-05   2.61847551e-05   1.09924657e-05   7.63300251e-06\n",
      "   6.83288039e-06   3.72121490e-06   2.25535394e-06   1.37121558e-06\n",
      "   1.20452037e-06   1.08383798e-06   1.05584327e-06   9.40775109e-07\n",
      "   8.73219382e-07   7.66669859e-07   5.18031676e-07   4.01815287e-07\n",
      "   3.31213958e-07   2.98220443e-07   2.45278872e-07   1.75993087e-07\n",
      "   1.44673700e-07   1.33770261e-07   8.10728548e-08   4.10775166e-08\n",
      "   2.79760375e-08   2.24971204e-08   2.06563312e-08   1.71018183e-10\n",
      "   1.56814060e-11   5.25656678e-33]\n",
      "sum of explained variance ratio (all 34 components):  1.0\n"
     ]
    },
    {
     "data": {
      "text/plain": [
       "<matplotlib.text.Text at 0x314e6748>"
      ]
     },
     "execution_count": 174,
     "metadata": {},
     "output_type": "execute_result"
    },
    {
     "data": {
      "image/png": "[encoded data removed]",
      "text/plain": [
       "<matplotlib.figure.Figure at 0x2f1cea20>"
      ]
     },
     "metadata": {},
     "output_type": "display_data"
    }
   ],
   "source": [
    "#Choosing components\n",
    "pca34 = decomposition.PCA(n_components=34)\n",
    "X_trf = pca34.fit_transform(X)\n",
    "\n",
    "print 'explained variance ratio (all 34 components): ', pca34.explained_variance_ratio_\n",
    "print 'sum of explained variance ratio (all 34 components): ', pca34.explained_variance_ratio_.sum()\n",
    "plt.cla()\n",
    "plt.plot(pca34.explained_variance_ratio_)\n",
    "plt.title('Variance explained by each principal component\\n')\n",
    "plt.ylabel(' % Variance Explained')\n",
    "plt.xlabel('Principal component')"
   ]
  },
  {
   "cell_type": "markdown",
   "metadata": {},
   "source": [
    "Based on the graph above, I first reduced the number of features from 34 to 5 components"
   ]
  },
  {
   "cell_type": "code",
   "execution_count": 175,
   "metadata": {},
   "outputs": [
    {
     "name": "stdout",
     "output_type": "stream",
     "text": [
      "[[ -99.59544417  -67.55802574   14.70586776   -0.47463225    0.38740568]\n",
      " [-109.60742086  120.57198389   21.14069869   25.13994628    2.06109169]\n",
      " [ -63.33235368  -68.08704154   14.23528378   -0.38195136    0.37128483]\n",
      " [-117.37190434  -67.29695584   14.93528204   -0.51708355    0.39135808]\n",
      " [-116.32206967  -67.31200698   14.92103005   -0.51314151    0.39524546]]\n"
     ]
    }
   ],
   "source": [
    "\n",
    "from sklearn import decomposition\n",
    "pca5 = decomposition.PCA(n_components=5)\n",
    "X_trf_5 = pca5.fit_transform(X)\n",
    "print(X_trf_5[0:5])"
   ]
  },
  {
   "cell_type": "markdown",
   "metadata": {},
   "source": [
    "With a reduction to 5 components, accuracy compared to my original model is still at nearly 100%."
   ]
  },
  {
   "cell_type": "code",
   "execution_count": 176,
   "metadata": {},
   "outputs": [
    {
     "name": "stdout",
     "output_type": "stream",
     "text": [
      "[  9.14739485e-01   6.77318729e-02   1.31067354e-02   4.27217336e-03\n",
      "   8.23755761e-05]\n",
      "0.999932641782\n"
     ]
    }
   ],
   "source": [
    "print pca5.explained_variance_ratio_\n",
    "print pca5.explained_variance_ratio_.sum()"
   ]
  },
  {
   "cell_type": "markdown",
   "metadata": {},
   "source": [
    "I next tested reductions to fewer components:"
   ]
  },
  {
   "cell_type": "code",
   "execution_count": 177,
   "metadata": {},
   "outputs": [
    {
     "name": "stdout",
     "output_type": "stream",
     "text": [
      "[ 0.91473948  0.06773187  0.01310674]\n",
      "0.995578092846\n"
     ]
    }
   ],
   "source": [
    "#Let's reduce it to 3 components\n",
    "pca3 = decomposition.PCA(n_components=3)\n",
    "X_trf_3 = pca3.fit_transform(X)\n",
    "print pca3.explained_variance_ratio_\n",
    "print pca3.explained_variance_ratio_.sum()"
   ]
  },
  {
   "cell_type": "code",
   "execution_count": 178,
   "metadata": {},
   "outputs": [
    {
     "name": "stdout",
     "output_type": "stream",
     "text": [
      "[ 0.91473948  0.06773187]\n",
      "0.982471357459\n"
     ]
    }
   ],
   "source": [
    "#Let's reduce it to 2 components\n",
    "pca2 = decomposition.PCA(n_components=2)\n",
    "X_trf_2 = pca2.fit_transform(X)\n",
    "print pca2.explained_variance_ratio_\n",
    "print pca2.explained_variance_ratio_.sum()"
   ]
  },
  {
   "cell_type": "code",
   "execution_count": 179,
   "metadata": {},
   "outputs": [
    {
     "name": "stdout",
     "output_type": "stream",
     "text": [
      "[ 0.91473948]\n",
      "0.914739484531\n"
     ]
    }
   ],
   "source": [
    "#Let's reduce it to 1 component\n",
    "pca1 = decomposition.PCA(n_components=1)\n",
    "X_trf_1 = pca1.fit_transform(X)\n",
    "print pca1.explained_variance_ratio_\n",
    "print pca1.explained_variance_ratio_.sum()"
   ]
  },
  {
   "cell_type": "code",
   "execution_count": 180,
   "metadata": {},
   "outputs": [
    {
     "name": "stdout",
     "output_type": "stream",
     "text": [
      "[-1768.51303543 -1623.55252236 -1218.91319338  -678.66206974 -2179.63185167\n",
      " -1070.82500042 -1021.76958623 -1385.60057806 -1180.67262934 -1750.35384928]\n"
     ]
    }
   ],
   "source": [
    "linreg = LinearRegression()\n",
    "mse_scores = cross_val_score(linreg, X, y, cv=10, scoring='neg_mean_squared_error')\n",
    "print mse_scores"
   ]
  },
  {
   "cell_type": "markdown",
   "metadata": {},
   "source": [
    "Reminder that the RMSE of my original cross-validation linear regression model was 36.81:"
   ]
  },
  {
   "cell_type": "code",
   "execution_count": 181,
   "metadata": {},
   "outputs": [
    {
     "name": "stdout",
     "output_type": "stream",
     "text": [
      "[ 42.05369229  40.29333099  34.91293734  26.05114335  46.68652752\n",
      "  32.72346254  31.96513079  37.22365616  34.36091718  41.83723042]\n",
      "36.810802857\n"
     ]
    }
   ],
   "source": [
    "# convert MSE to RMSE, and then calculate the mean of the 10 RMSE scores\n",
    "rmse_scores = np.sqrt(-mse_scores)\n",
    "print rmse_scores\n",
    "print np.mean(rmse_scores)\n"
   ]
  },
  {
   "cell_type": "markdown",
   "metadata": {},
   "source": [
    "Converting the features into 3 components yielded an RMSE of 39.26.\n",
    "Converting the features into 5 components yielded an RMSE of 38.37.\n",
    "\n",
    "Both of these are less accurate than my original cross validation. Let's run a Decision Tree model next."
   ]
  },
  {
   "cell_type": "code",
   "execution_count": 182,
   "metadata": {},
   "outputs": [
    {
     "data": {
      "text/plain": [
       "39.269839797956614"
      ]
     },
     "execution_count": 182,
     "metadata": {},
     "output_type": "execute_result"
    }
   ],
   "source": [
    "from sklearn.pipeline import Pipeline\n",
    "pipe_trf_3 = Pipeline([('pca_3', decomposition.PCA(n_components=3)),\n",
    "                 ('linear', LinearRegression())])\n",
    "scores_trf_3 = cross_val_score(pipe_trf_3, X, y, cv=10, scoring='neg_mean_squared_error')\n",
    "rmse_scores = scores_trf_3.mean()\n",
    "np.mean(np.sqrt(-rmse_scores))"
   ]
  },
  {
   "cell_type": "code",
   "execution_count": 183,
   "metadata": {},
   "outputs": [
    {
     "data": {
      "text/plain": [
       "38.372882721354941"
      ]
     },
     "execution_count": 183,
     "metadata": {},
     "output_type": "execute_result"
    }
   ],
   "source": [
    "from sklearn.pipeline import Pipeline\n",
    "pipe_trf_5 = Pipeline([('pca_5', decomposition.PCA(n_components=5)),\n",
    "                 ('linear', LinearRegression())])\n",
    "scores_trf_5 = cross_val_score(pipe_trf_5, X, y, cv=10, scoring='neg_mean_squared_error')\n",
    "rmse_scores = scores_trf_5.mean()\n",
    "np.mean(np.sqrt(-rmse_scores))"
   ]
  },
  {
   "cell_type": "markdown",
   "metadata": {},
   "source": [
    "### Decision Tree\n",
    "\n",
    "Use 10-fold cross-validation to evaluate a decision tree model"
   ]
  },
  {
   "cell_type": "code",
   "execution_count": 184,
   "metadata": {
    "collapsed": true
   },
   "outputs": [],
   "source": [
    "from sklearn.tree import DecisionTreeRegressor\n",
    "# list of values to try\n",
    "max_depth_range = range(1, 8)\n",
    "\n",
    "# list to store the average RMSE for each value of max_depth\n",
    "RMSE_scores = []\n",
    "\n",
    "# use CV with each value of max_depth\n",
    "for depth in max_depth_range:\n",
    "    treereg = DecisionTreeRegressor(max_depth=depth, random_state=1)\n",
    "    MSE_scores = cross_val_score(treereg, X, y, cv=10, scoring='neg_mean_squared_error')\n",
    "    RMSE_scores.append(np.mean(np.sqrt(-MSE_scores)))"
   ]
  },
  {
   "cell_type": "code",
   "execution_count": 185,
   "metadata": {},
   "outputs": [
    {
     "data": {
      "text/plain": [
       "<matplotlib.text.Text at 0x3146aac8>"
      ]
     },
     "execution_count": 185,
     "metadata": {},
     "output_type": "execute_result"
    },
    {
     "data": {
      "image/png": "[encoded data removed]",
      "text/plain": [
       "<matplotlib.figure.Figure at 0x2d4d8a20>"
      ]
     },
     "metadata": {},
     "output_type": "display_data"
    }
   ],
   "source": [
    "# plot max_depth (x-axis) versus RMSE (y-axis)\n",
    "\n",
    "plt.plot(max_depth_range, RMSE_scores)\n",
    "plt.xlabel('max_depth')\n",
    "plt.ylabel('RMSE (lower is better)')"
   ]
  },
  {
   "cell_type": "code",
   "execution_count": 186,
   "metadata": {},
   "outputs": [
    {
     "data": {
      "text/plain": [
       "37.342236529554654"
      ]
     },
     "execution_count": 186,
     "metadata": {},
     "output_type": "execute_result"
    }
   ],
   "source": [
    "# fit a decision tree model with \"max_depth=3\"\n",
    "from sklearn.tree import DecisionTreeRegressor\n",
    "treereg = DecisionTreeRegressor(max_depth=3, random_state=1)\n",
    "\n",
    "scores = cross_val_score(treereg, X, y, cv=10, scoring='neg_mean_squared_error')\n",
    "rmse_scores_t = np.mean(np.sqrt(-scores))\n",
    "np.mean(rmse_scores_t)"
   ]
  },
  {
   "cell_type": "code",
   "execution_count": 187,
   "metadata": {},
   "outputs": [
    {
     "name": "stdout",
     "output_type": "stream",
     "text": [
      "37.2425417928\n"
     ]
    }
   ],
   "source": [
    "# fit a decision tree model with \"max_depth=4\"\n",
    "from sklearn.tree import DecisionTreeRegressor\n",
    "treereg = DecisionTreeRegressor(max_depth=4, random_state=1)\n",
    "\n",
    "scores = cross_val_score(treereg, X, y, cv=10, scoring='neg_mean_squared_error')\n",
    "rmse_scores_t = np.mean(np.sqrt(-scores))\n",
    "print rmse_scores_t\n"
   ]
  },
  {
   "cell_type": "markdown",
   "metadata": {},
   "source": [
    "So it appears that the best model I can use is a decision tree with a depth of 4, as the RSME is the lowest of all.  This is still less accurate than my null RSME."
   ]
  },
  {
   "cell_type": "markdown",
   "metadata": {},
   "source": [
    "## Conclusion\n",
    "\n",
    "The Root Squared Mean Error for each model/best model tune were:\n",
    "\n",
    "- Cross Validation linear regression: **39.023**\n",
    "- Best Cross Validation model produced, based on features used: **36.773**\n",
    "- Linear regression using Dimensionality Reduction: **38.373**\n",
    "- Best Decision Tree model: **37.243**\n",
    "\n",
    "The best model I produced in terms of lowest RSME was a Cross Validation model using select features: \n",
    "- 'PCT_RECOMMEND_TO_A_FRIEND'\n",
    "- 'AVERAGE_EST_REVIEW_WORD_COUNT' \n",
    "- 'PCT_YES'\n",
    "- 'PCT_NO'\n",
    "- 'PRICE'\n",
    "- 'REVIEWS_5' \n",
    "- 'REVIEWS_4'\n",
    "- 'REVIEWS_1'\n",
    "- 'shop_CAMPING' \n",
    "- 'shop_CLIMBING'\n",
    "- 'shop_CYCLING'\n",
    "- 'shop_MISCELLANEOUS' \n",
    "- 'shop_OUTDOOR ESSENTIALS'\n",
    "- 'shop_REI GARAGE'\n",
    "- 'shop_SNOWSPORTS'\n",
    "- 'shop_TRAVEL' \n",
    "- 'shop_WATERSPORTS' \n",
    "                \n",
    "Still, this model did not produce results much more accurate than the Null simple linear regression.  None of the features I looked at were very highly correlated with orders placed.  With the data I have available, we cannot produce a model that will predict orders placed with much accuracy."
   ]
  },
  {
   "cell_type": "code",
   "execution_count": null,
   "metadata": {
    "collapsed": true
   },
   "outputs": [],
   "source": []
  }
 ],
 "metadata": {
  "kernelspec": {
   "display_name": "Python 2",
   "language": "python",
   "name": "python2"
  },
  "language_info": {
   "codemirror_mode": {
    "name": "ipython",
    "version": 2
   },
   "file_extension": ".py",
   "mimetype": "text/x-python",
   "name": "python",
   "nbconvert_exporter": "python",
   "pygments_lexer": "ipython2",
   "version": "2.7.13"
  }
 },
 "nbformat": 4,
 "nbformat_minor": 2
}
