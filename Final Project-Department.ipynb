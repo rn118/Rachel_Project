{
 "cells": [
  {
   "cell_type": "markdown",
   "metadata": {},
   "source": [
    "# REVIEWS AS A PREDICTOR OF SALES\n",
    "###### By Rachel Nord, DS-SEA-07"
   ]
  },
  {
   "cell_type": "markdown",
   "metadata": {},
   "source": [
    "## Background / Problem Statement\n",
    "Reviews drive orders.  We know that products that have reviews and have high average rating of reviews sell better than those that don’t.  However, are there features in the ratings that are more likely to drive purchases than others?  And can we use these features to build a model that will predict orders placed?\n"
   ]
  },
  {
   "cell_type": "markdown",
   "metadata": {},
   "source": [
    "## Data\n",
    "### Data Import\n",
    "I uploaded a csv file of from Bazaarvoice, the vendor we use to capture and enable user generated content on rei.com. The dimensions of this data are by average overall rating, total reviews, percent recommended to a friend, average estimated word count, percent of reviews that were 5-star, specialty shop, number of uploaded photos, price.\n",
    "\n",
    "I then joined this data with data on orders placed, price of item, and each level of of REI's internal merchandising hierarchy (Specialty Shop, Department, Class, Subclass).\n",
    "\n",
    "### Pre-processing Steps Taken\n"
   ]
  },
  {
   "cell_type": "code",
   "execution_count": 21,
   "metadata": {
    "collapsed": true
   },
   "outputs": [],
   "source": [
    "import pandas as pd\n",
    "import numpy as np\n",
    "import matplotlib.pyplot as plt\n",
    "import seaborn as sns\n",
    "\n",
    "# display plots in the notebook\n",
    "%matplotlib inline\n",
    "\n",
    "# increase default figure and font sizes for easier viewing\n",
    "plt.rcParams# increase default figure and font sizes for easier viewing\n",
    "plt.rcParams['figure.figsize'] = (15, 6)\n",
    "plt.rcParams['font.size'] = 14\n"
   ]
  },
  {
   "cell_type": "markdown",
   "metadata": {},
   "source": [
    "Most preprocessing was done in prior to the data import since I used SQL to join my two data sources.  At this point I calculated the standard deviation of the review scores for each product.  The Bazaarvoice data is based on a moment in time on 10/20/17.  So I filtered order and traffic data for the month of October.  I also created dummy variables for each specialty shop.\n",
    "\n",
    "The end result was 18,297 different products and 37 different features to analyze."
   ]
  },
  {
   "cell_type": "code",
   "execution_count": 22,
   "metadata": {
    "collapsed": true
   },
   "outputs": [],
   "source": [
    "# read in data\n",
    "path = '/Users/rnord/GA Data Science/temp_repos/DS-SEA-07/project/'\n",
    "url = path + 'Bazaar_by_product_TRAFFIC.csv'\n",
    "prod = pd.read_csv(url, delimiter = '|')\n",
    "\n",
    "# Add Standard Deviation\n",
    "prod['STD'] = np.sqrt(prod['VARIANCE_'])\n",
    "\n",
    "#Look at latest month\n",
    "prod_oct = prod[prod['MONTH_CODE'] == 201710]\n",
    "\n",
    "\n"
   ]
  },
  {
   "cell_type": "code",
   "execution_count": 37,
   "metadata": {
    "collapsed": true
   },
   "outputs": [],
   "source": [
    "\n",
    "# Trying a subset of the data to see if this is more accurate\n",
    "#prod_oct_hikingfootwear = prod_oct[prod_oct['DEPARTMENT_DESC'] == 'HIKING FOOTWEAR']\n",
    "prod_oct_packs = prod_oct[prod_oct['DEPARTMENT_DESC'] == 'PACKS']"
   ]
  },
  {
   "cell_type": "markdown",
   "metadata": {},
   "source": [
    "### Features Used"
   ]
  },
  {
   "cell_type": "code",
   "execution_count": 24,
   "metadata": {},
   "outputs": [
    {
     "data": {
      "text/plain": [
       "Index([u'MONTH_CODE', u'PRODUCT', u'SUBCLASS_DESC', u'CLASS_DESC',\n",
       "       u'DEPARTMENT_DESC', u'SHOP_DESC', u'VISITS', u'ORDERS', u'CONVERSION',\n",
       "       u'INDEX', u'PRODUCT_NAME', u'PRODUCT_ID', u'CATEGORY',\n",
       "       u'AVERAGE_OVERALL_RATING', u'TOTAL_SUBMITTED__REVIEWS',\n",
       "       u'TOTAL_SUBMITTED__RATINGS_ONLY_REVIEWS', u'PCT_RECOMMEND_TO_A_FRIEND',\n",
       "       u'AVERAGE_EST_REVIEW_WORD_COUNT', u'PCT_5_STAR', u'PCT_4_STAR',\n",
       "       u'PCT_3_STAR', u'PCT_2_STAR', u'PCT_1_STAR', u'TOTAL_HELPFULNESS_VOTES',\n",
       "       u'PCT_YES', u'PCT_NO', u'NUM_UPLOADED_PHOTOS', u'NUM_UPLOADED_VIDEOS',\n",
       "       u'PRODUCT.1', u'PRICE', u'REVIEWS_5', u'REVIEWS_4', u'REVIEWS_3',\n",
       "       u'REVIEWS_2', u'REVIEWS_1', u'VARIANCE_', u'STD'],\n",
       "      dtype='object')"
      ]
     },
     "execution_count": 24,
     "metadata": {},
     "output_type": "execute_result"
    }
   ],
   "source": [
    "prod_oct.columns\n"
   ]
  },
  {
   "cell_type": "markdown",
   "metadata": {},
   "source": [
    "### Response Variable\n",
    "The response variable that was tested was `Orders`."
   ]
  },
  {
   "cell_type": "markdown",
   "metadata": {},
   "source": [
    "### Data Exploration\n",
    "- Total number of reviews written for each product"
   ]
  },
  {
   "cell_type": "code",
   "execution_count": 38,
   "metadata": {},
   "outputs": [
    {
     "data": {
      "text/plain": [
       "<matplotlib.text.Text at 0xfaf6cf8>"
      ]
     },
     "execution_count": 38,
     "metadata": {},
     "output_type": "execute_result"
    },
    {
     "data": {
      "image/png": "[encoded data removed]",
      "text/plain": [
       "<matplotlib.figure.Figure at 0x10c039b0>"
      ]
     },
     "metadata": {},
     "output_type": "display_data"
    }
   ],
   "source": [
    "# Total Submitted Reviews\n",
    "prod_oct_packs.TOTAL_SUBMITTED__REVIEWS[prod_oct_packs.TOTAL_SUBMITTED__REVIEWS < 50].plot(kind='hist', bins=100)\n",
    "plt.xlabel('TOTAL_SUBMITTED__REVIEWS')\n",
    "plt.ylabel('Frequency')"
   ]
  },
  {
   "cell_type": "markdown",
   "metadata": {},
   "source": [
    "- Of all products currently available on rei.com, most have no reviews, followed by those with an average score of 5."
   ]
  },
  {
   "cell_type": "code",
   "execution_count": 26,
   "metadata": {},
   "outputs": [
    {
     "data": {
      "text/plain": [
       "<matplotlib.text.Text at 0xf044860>"
      ]
     },
     "execution_count": 26,
     "metadata": {},
     "output_type": "execute_result"
    },
    {
     "data": {
      "image/png": "[encoded data removed]",
      "text/plain": [
       "<matplotlib.figure.Figure at 0x5799c18>"
      ]
     },
     "metadata": {},
     "output_type": "display_data"
    }
   ],
   "source": [
    "# Average Overall Rating\n",
    "prod_oct_packs.AVERAGE_OVERALL_RATING.plot(kind='hist', bins=20)\n",
    "plt.xlabel('AVERAGE_OVERALL_RATING')\n",
    "plt.ylabel('Frequency')"
   ]
  },
  {
   "cell_type": "markdown",
   "metadata": {},
   "source": [
    "- Most products fall into the Garage category (which are all discounted products); followed by Camping"
   ]
  },
  {
   "cell_type": "markdown",
   "metadata": {},
   "source": [
    "### Correlation Heat Map\n",
    "\n",
    "Based on the below heatmap, the strongest correlation with orders and order conversion are percent of reviews recommended to friends, total reviews, especially the number of 5-star reviews, total helpfulness votes."
   ]
  },
  {
   "cell_type": "code",
   "execution_count": 27,
   "metadata": {},
   "outputs": [
    {
     "data": {
      "text/plain": [
       "<matplotlib.axes._subplots.AxesSubplot at 0x1081dbe0>"
      ]
     },
     "execution_count": 27,
     "metadata": {},
     "output_type": "execute_result"
    },
    {
     "data": {
      "image/png": "[encoded data removed]",
      "text/plain": [
       "<matplotlib.figure.Figure at 0xf5630f0>"
      ]
     },
     "metadata": {},
     "output_type": "display_data"
    }
   ],
   "source": [
    "# visualize correlation matrix in Seaborn using a heatmap\n",
    "sns.heatmap(prod_oct_packs.corr())"
   ]
  },
  {
   "cell_type": "code",
   "execution_count": 39,
   "metadata": {
    "collapsed": true
   },
   "outputs": [],
   "source": [
    "# create a list of features\n",
    "feature_cols = ['AVERAGE_OVERALL_RATING', 'TOTAL_SUBMITTED__REVIEWS', \n",
    "                'TOTAL_SUBMITTED__RATINGS_ONLY_REVIEWS', 'PCT_RECOMMEND_TO_A_FRIEND',\n",
    "                'AVERAGE_EST_REVIEW_WORD_COUNT', 'PCT_5_STAR', 'PCT_4_STAR', 'PCT_3_STAR', 'PCT_2_STAR', 'PCT_1_STAR', \n",
    "                'PCT_YES', 'PCT_NO', 'NUM_UPLOADED_PHOTOS', 'NUM_UPLOADED_VIDEOS', 'PRICE', 'REVIEWS_5', \n",
    "                'REVIEWS_4', 'REVIEWS_3', 'REVIEWS_2', 'REVIEWS_1', 'VARIANCE_', 'STD']\n",
    "\n"
   ]
  },
  {
   "cell_type": "code",
   "execution_count": 40,
   "metadata": {},
   "outputs": [
    {
     "data": {
      "text/plain": [
       "LinearRegression(copy_X=True, fit_intercept=True, n_jobs=1, normalize=False)"
      ]
     },
     "execution_count": 40,
     "metadata": {},
     "output_type": "execute_result"
    }
   ],
   "source": [
    "# Creation of feature matrix and response vector\n",
    "# Importation of chosen estimato; instantiation into a variable\n",
    "# Fit the model with the X and y\n",
    "\n",
    "X = prod_oct_packs[feature_cols]\n",
    "y = prod_oct_packs['ORDERS']\n",
    "\n",
    "from sklearn.linear_model import LinearRegression\n",
    "linreg = LinearRegression()\n",
    "linreg.fit(X, y)\n",
    "\n"
   ]
  },
  {
   "cell_type": "code",
   "execution_count": 41,
   "metadata": {},
   "outputs": [
    {
     "name": "stdout",
     "output_type": "stream",
     "text": [
      "2.48207254767\n",
      "[ -3.18814908e+02   1.42601302e+01  -6.54511448e+00   3.58632504e+00\n",
      "  -3.63740145e-02   1.02230654e+03   8.14491392e+02   6.07154192e+02\n",
      "   4.12606059e+02   2.05064881e+02   5.22561350e+00   8.98527935e-01\n",
      "  -1.02898228e+00  -1.84197375e+00  -7.14054170e-04  -1.32599822e+01\n",
      "  -1.55313311e+01  -1.35531449e+01  -1.61175356e+01  -1.29681248e+01\n",
      "  -5.23833763e-01   5.88797642e+01]\n"
     ]
    }
   ],
   "source": [
    "\n",
    "# print the coefficients\n",
    "print linreg.intercept_\n",
    "print linreg.coef_\n"
   ]
  },
  {
   "cell_type": "code",
   "execution_count": 42,
   "metadata": {},
   "outputs": [
    {
     "data": {
      "text/plain": [
       "[('AVERAGE_OVERALL_RATING', -318.8149081092381),\n",
       " ('TOTAL_SUBMITTED__REVIEWS', 14.260130187848816),\n",
       " ('TOTAL_SUBMITTED__RATINGS_ONLY_REVIEWS', -6.5451144795485723),\n",
       " ('PCT_RECOMMEND_TO_A_FRIEND', 3.5863250382329506),\n",
       " ('AVERAGE_EST_REVIEW_WORD_COUNT', -0.036374014533489429),\n",
       " ('PCT_5_STAR', 1022.3065378867902),\n",
       " ('PCT_4_STAR', 814.491391530854),\n",
       " ('PCT_3_STAR', 607.15419219181513),\n",
       " ('PCT_2_STAR', 412.60605902006182),\n",
       " ('PCT_1_STAR', 205.06488140363641),\n",
       " ('PCT_YES', 5.2256134981926721),\n",
       " ('PCT_NO', 0.89852793535334641),\n",
       " ('NUM_UPLOADED_PHOTOS', -1.0289822765706162),\n",
       " ('NUM_UPLOADED_VIDEOS', -1.8419737535174319),\n",
       " ('PRICE', -0.00071405417006609184),\n",
       " ('REVIEWS_5', -13.259982225605881),\n",
       " ('REVIEWS_4', -15.531331129240527),\n",
       " ('REVIEWS_3', -13.553144887717963),\n",
       " ('REVIEWS_2', -16.117535565818585),\n",
       " ('REVIEWS_1', -12.96812476726916),\n",
       " ('VARIANCE_', -0.52383376294804407),\n",
       " ('STD', 58.879764216501201)]"
      ]
     },
     "execution_count": 42,
     "metadata": {},
     "output_type": "execute_result"
    }
   ],
   "source": [
    "# pair the feature names with the coefficients\n",
    "zip(feature_cols, linreg.coef_)"
   ]
  },
  {
   "cell_type": "markdown",
   "metadata": {},
   "source": [
    "The most impactful features are:\n",
    "\n",
    "- Holding all other features fixed, a 1 unit increase in **Pct 5-Star Reviews** is associated with an **order increase of 257 products**.\n",
    "- Holding all other features fixed, a 1 unit increase in **Average Overall Rating** is associated with a **order increase of 53 products**.\n",
    "- Holding all other features fixed, a 1 unit increase in **REI Garage Prodcut** is associated with a **order increase of 19 products**."
   ]
  },
  {
   "cell_type": "markdown",
   "metadata": {
    "collapsed": true
   },
   "source": [
    "## Modeling\n",
    "\n",
    "### Simple Linear Regression\n",
    "I first ran a simple linear regression model to get a sense of the null RSME."
   ]
  },
  {
   "cell_type": "code",
   "execution_count": 43,
   "metadata": {
    "collapsed": true
   },
   "outputs": [],
   "source": [
    "#from sklearn.cross_validation import train_test_split # deprecated syntax\n",
    "from sklearn.model_selection import train_test_split\n",
    "from sklearn import metrics\n",
    "\n",
    "\n",
    "# define a function that accepts a list of features and returns testing RMSE\n",
    "def train_test_rmse(feature_cols):\n",
    "    X = prod_oct_packs[feature_cols]\n",
    "    y = prod_oct_packs['ORDERS']\n",
    "    X_train, X_test, y_train, y_test = train_test_split(X, y, random_state=123)\n",
    "    linreg = LinearRegression()\n",
    "    linreg.fit(X_train, y_train)\n",
    "    y_pred = linreg.predict(X_test)\n",
    "    return np.sqrt(metrics.mean_squared_error(y_test, y_pred))\n"
   ]
  },
  {
   "cell_type": "code",
   "execution_count": 44,
   "metadata": {
    "collapsed": true
   },
   "outputs": [],
   "source": [
    "# split X and y into training and testing sets\n",
    "X_train, X_test, y_train, y_test = train_test_split(X, y, random_state=1)\n",
    "\n",
    "# create a NumPy array with the same shape as y_test\n",
    "y_null = np.zeros_like(y_test, dtype=float)\n",
    "\n",
    "# fill the array with the mean value of y_test\n",
    "y_null.fill(y_test.mean())\n",
    "#y_null\n"
   ]
  },
  {
   "cell_type": "code",
   "execution_count": 45,
   "metadata": {},
   "outputs": [
    {
     "data": {
      "text/plain": [
       "23.562767581910187"
      ]
     },
     "execution_count": 45,
     "metadata": {},
     "output_type": "execute_result"
    }
   ],
   "source": [
    "np.sqrt(metrics.mean_squared_error(y_test, y_null))"
   ]
  },
  {
   "cell_type": "markdown",
   "metadata": {
    "collapsed": true
   },
   "source": [
    "Changing the random state in the test/train split gave me a null RSME ranging from **34 to 40**.\n"
   ]
  },
  {
   "cell_type": "markdown",
   "metadata": {},
   "source": [
    "### Cross Validation\n",
    "\n",
    "I next used a 10-fold cross-validation to calculate the RMSE for the linear regression model.  The RMSE when using all features was 36.81. "
   ]
  },
  {
   "cell_type": "code",
   "execution_count": 46,
   "metadata": {},
   "outputs": [
    {
     "name": "stdout",
     "output_type": "stream",
     "text": [
      "[-165.04186352 -207.7853891  -199.28242157 -187.73011227 -388.94047747\n",
      " -278.80948142 -279.97533516 -635.90740531 -107.41345881 -265.94432195]\n",
      "16.01205083\n"
     ]
    }
   ],
   "source": [
    "# save the 10 MSE scores output by cross_val_score\n",
    "from sklearn.model_selection import cross_val_score\n",
    "mse_scores = cross_val_score(linreg, X, y, cv=10, scoring='neg_mean_squared_error')\n",
    "print mse_scores\n",
    "print np.mean(np.sqrt(-mse_scores))"
   ]
  },
  {
   "cell_type": "markdown",
   "metadata": {},
   "source": [
    "Then I tuned my model, attempting to increase the accuracy by excluding some of the features from the model.\n",
    "Of the models I ran, this was the only one that beat the cross-validation model with all features included:\n",
    "- 'PCT_RECOMMEND_TO_A_FRIEND'\n",
    "- 'AVERAGE_EST_REVIEW_WORD_COUNT' \n",
    "- 'PCT_YES'\n",
    "- 'PCT_NO'\n",
    "- 'PRICE'\n",
    "- 'REVIEWS_5' \n",
    "- 'REVIEWS_4'\n",
    "- 'REVIEWS_1'\n",
    "- 'shop_CAMPING' \n",
    "- 'shop_CLIMBING'\n",
    "- 'shop_CYCLING'\n",
    "- 'shop_MISCELLANEOUS' \n",
    "- 'shop_OUTDOOR ESSENTIALS'\n",
    "- 'shop_REI GARAGE'\n",
    "- 'shop_SNOWSPORTS'\n",
    "- 'shop_TRAVEL' \n",
    "- 'shop_WATERSPORTS' \n"
   ]
  },
  {
   "cell_type": "code",
   "execution_count": 51,
   "metadata": {},
   "outputs": [
    {
     "name": "stdout",
     "output_type": "stream",
     "text": [
      "[-150.32463505 -159.84491414 -179.69103476 -192.75396236 -375.67300655\n",
      " -275.56344854 -279.03150795 -654.62743123 -112.44855124 -283.69384276]\n",
      "15.7911851796\n"
     ]
    }
   ],
   "source": [
    "# 10-fold cross-validation with best test-train features\n",
    "# this was the best combo I could find.\n",
    "feature_cols = [ 'PCT_RECOMMEND_TO_A_FRIEND',\n",
    "                'AVERAGE_EST_REVIEW_WORD_COUNT', \n",
    "                'PCT_YES', 'PCT_NO', 'PRICE', 'REVIEWS_5', \n",
    "                'REVIEWS_4', 'REVIEWS_1']\n",
    "X = prod_oct_packs[feature_cols]\n",
    "\n",
    "mse_scores = cross_val_score(linreg, X, y, cv=10, scoring='neg_mean_squared_error')\n",
    "print mse_scores\n",
    "print np.sqrt(-cross_val_score(linreg, X, y, cv=10, scoring='neg_mean_squared_error')).mean()"
   ]
  },
  {
   "cell_type": "markdown",
   "metadata": {},
   "source": [
    "### Polynomial Regression"
   ]
  },
  {
   "cell_type": "code",
   "execution_count": 111,
   "metadata": {
    "collapsed": true
   },
   "outputs": [],
   "source": [
    "# Training Polynomial Regression Model\n",
    "from sklearn.preprocessing import PolynomialFeatures\n",
    "from sklearn.pipeline import Pipeline\n",
    "poly_reg = PolynomialFeatures(degree = 2)\n",
    "\n",
    "\n",
    "#X_poly = poly_reg.fit_transform(X_train)\n",
    "poly_reg.fit(X, y)\n",
    "\n",
    "def train_test_rmse_poly(prod_oct_packs, feature_cols, random_state=123):\n",
    "    X = prod_oct_packs[feature_cols]\n",
    "    y = prod_oct_packs['ORDERS']\n",
    "    X_train, X_test, y_train, y_test = train_test_split(X, y)\n",
    "    poly_feature = PolynomialFeatures(degree = 2)\n",
    "    X_train_poly = poly_feature.fit_transform(X_train)\n",
    "    X_test_poly = poly_feature.fit_transform(X_test)\n",
    "    linreg = LinearRegression()\n",
    "    linreg.fit(X_train_poly, y_train)\n",
    "    y_pred = linreg.predict(X_test_poly)\n",
    "    return np.sqrt(metrics.mean_squared_error(y_test, y_pred))"
   ]
  },
  {
   "cell_type": "code",
   "execution_count": 112,
   "metadata": {},
   "outputs": [
    {
     "name": "stdout",
     "output_type": "stream",
     "text": [
      "16.108828941\n"
     ]
    }
   ],
   "source": [
    "feature_columns = ['PCT_RECOMMEND_TO_A_FRIEND',\n",
    "                'AVERAGE_EST_REVIEW_WORD_COUNT', \n",
    "                'PCT_YES', 'PCT_NO', 'PRICE', 'REVIEWS_5', \n",
    "                'REVIEWS_4', 'REVIEWS_1', 'shop_CAMPING', \n",
    "                'shop_CLIMBING', 'shop_CYCLING', 'shop_MISCELLANEOUS', \n",
    "                'shop_OUTDOOR ESSENTIALS', 'shop_REI GARAGE', 'shop_SNOWSPORTS', 'shop_TRAVEL', \n",
    "                'shop_WATERSPORTS']\n",
    "print train_test_rmse_poly(prod_oct_packs, feature_columns)"
   ]
  },
  {
   "cell_type": "code",
   "execution_count": null,
   "metadata": {
    "collapsed": true
   },
   "outputs": [],
   "source": []
  },
  {
   "cell_type": "markdown",
   "metadata": {},
   "source": [
    "### Decision Tree\n",
    "\n",
    "Use 10-fold cross-validation to evaluate a decision tree model"
   ]
  },
  {
   "cell_type": "code",
   "execution_count": 113,
   "metadata": {
    "collapsed": true
   },
   "outputs": [],
   "source": [
    "from sklearn.tree import DecisionTreeRegressor\n",
    "# list of values to try\n",
    "max_depth_range = range(1, 8)\n",
    "\n",
    "# list to store the average RMSE for each value of max_depth\n",
    "RMSE_scores = []\n",
    "\n",
    "# use CV with each value of max_depth\n",
    "for depth in max_depth_range:\n",
    "    treereg = DecisionTreeRegressor(max_depth=depth, random_state=1)\n",
    "    MSE_scores = cross_val_score(treereg, X, y, cv=10, scoring='neg_mean_squared_error')\n",
    "    RMSE_scores.append(np.mean(np.sqrt(-MSE_scores)))"
   ]
  },
  {
   "cell_type": "code",
   "execution_count": 114,
   "metadata": {},
   "outputs": [
    {
     "data": {
      "text/plain": [
       "<matplotlib.text.Text at 0x183886a0>"
      ]
     },
     "execution_count": 114,
     "metadata": {},
     "output_type": "execute_result"
    },
    {
     "data": {
      "image/png": "[encoded data removed]",
      "text/plain": [
       "<matplotlib.figure.Figure at 0x10637320>"
      ]
     },
     "metadata": {},
     "output_type": "display_data"
    }
   ],
   "source": [
    "# plot max_depth (x-axis) versus RMSE (y-axis)\n",
    "\n",
    "plt.plot(max_depth_range, RMSE_scores)\n",
    "plt.xlabel('max_depth')\n",
    "plt.ylabel('RMSE (lower is better)')"
   ]
  },
  {
   "cell_type": "code",
   "execution_count": 115,
   "metadata": {},
   "outputs": [
    {
     "data": {
      "text/plain": [
       "16.461715937406368"
      ]
     },
     "execution_count": 115,
     "metadata": {},
     "output_type": "execute_result"
    }
   ],
   "source": [
    "# fit a decision tree model with \"max_depth=3\"\n",
    "from sklearn.tree import DecisionTreeRegressor\n",
    "treereg = DecisionTreeRegressor(max_depth=3, random_state=1)\n",
    "\n",
    "scores = cross_val_score(treereg, X, y, cv=10, scoring='neg_mean_squared_error')\n",
    "rmse_scores_t = np.mean(np.sqrt(-scores))\n",
    "np.mean(rmse_scores_t)"
   ]
  },
  {
   "cell_type": "code",
   "execution_count": 116,
   "metadata": {},
   "outputs": [
    {
     "name": "stdout",
     "output_type": "stream",
     "text": [
      "16.122493363\n"
     ]
    }
   ],
   "source": [
    "# fit a decision tree model with \"max_depth=4\"\n",
    "from sklearn.tree import DecisionTreeRegressor\n",
    "treereg = DecisionTreeRegressor(max_depth=2, random_state=1)\n",
    "\n",
    "scores = cross_val_score(treereg, X, y, cv=10, scoring='neg_mean_squared_error')\n",
    "rmse_scores_t = np.mean(np.sqrt(-scores))\n",
    "print rmse_scores_t\n"
   ]
  },
  {
   "cell_type": "markdown",
   "metadata": {},
   "source": [
    "So it appears that the best model I can use is a decision tree with a depth of 4, as the RSME is the lowest of all.  This is still less accurate than my null RSME."
   ]
  },
  {
   "cell_type": "markdown",
   "metadata": {},
   "source": [
    "## Conclusion\n",
    "\n",
    "The Root Squared Mean Error for each model/best model tune were:\n",
    "\n",
    "- Cross Validation linear regression: **39.023**\n",
    "- Best Cross Validation model produced, based on features used: **36.773**\n",
    "- Linear regression using Dimensionality Reduction: **38.373**\n",
    "- Best Decision Tree model: **37.243**\n",
    "\n",
    "The best model I produced in terms of lowest RSME was a Cross Validation model using select features: \n",
    "- 'PCT_RECOMMEND_TO_A_FRIEND'\n",
    "- 'AVERAGE_EST_REVIEW_WORD_COUNT' \n",
    "- 'PCT_YES'\n",
    "- 'PCT_NO'\n",
    "- 'PRICE'\n",
    "- 'REVIEWS_5' \n",
    "- 'REVIEWS_4'\n",
    "- 'REVIEWS_1'\n",
    "- 'shop_CAMPING' \n",
    "- 'shop_CLIMBING'\n",
    "- 'shop_CYCLING'\n",
    "- 'shop_MISCELLANEOUS' \n",
    "- 'shop_OUTDOOR ESSENTIALS'\n",
    "- 'shop_REI GARAGE'\n",
    "- 'shop_SNOWSPORTS'\n",
    "- 'shop_TRAVEL' \n",
    "- 'shop_WATERSPORTS' \n",
    "                \n",
    "Still, this model did not produce results much more accurate than the Null simple linear regression.  None of the features I looked at were very highly correlated with orders placed.  With the data I have available, we cannot produce a model that will predict orders placed with much accuracy.  \n",
    "\n",
    "A next step would be to explore the content of the reviews to see if perhaps there is a correlation between content and orders placed."
   ]
  },
  {
   "cell_type": "code",
   "execution_count": null,
   "metadata": {
    "collapsed": true
   },
   "outputs": [],
   "source": []
  }
 ],
 "metadata": {
  "kernelspec": {
   "display_name": "Python 2",
   "language": "python",
   "name": "python2"
  },
  "language_info": {
   "codemirror_mode": {
    "name": "ipython",
    "version": 2
   },
   "file_extension": ".py",
   "mimetype": "text/x-python",
   "name": "python",
   "nbconvert_exporter": "python",
   "pygments_lexer": "ipython2",
   "version": "2.7.13"
  }
 },
 "nbformat": 4,
 "nbformat_minor": 2
}
